{
 "cells": [
  {
   "cell_type": "code",
   "execution_count": 245,
   "metadata": {},
   "outputs": [],
   "source": [
    "import bqplot\n",
    "import numpy as np\n",
    "import pandas as pd\n",
    "import ipywidgets as widgets"
   ]
  },
  {
   "cell_type": "code",
   "execution_count": 559,
   "metadata": {},
   "outputs": [],
   "source": [
    "# input coordinates and class, function to modify board state \n",
    "def shape_grid(num_shapes, shape_function, size, inp, **interact_params):\n",
    "    sc_x = bqplot.scales.LinearScale()\n",
    "    sc_y = bqplot.scales.LinearScale()\n",
    "    ax_x = bqplot.axes.Axis(scale=sc_x)\n",
    "    ax_y = bqplot.axes.Axis(scale=sc_y, tick_format='0.2f', orientation='vertical')\n",
    "    ax_x.visible = False\n",
    "    ax_y.visible = False\n",
    "    lst_scatter_plts = []\n",
    "    for i in range(num_shapes):\n",
    "        lst_scatter_plts.append(\n",
    "            bqplot.marks.Scatter(x=np.arange(size), \n",
    "                   y=np.arange(size),\n",
    "                   scales={'x': sc_x, 'y': sc_y}, ))\n",
    "    fig = bqplot.Figure(marks=lst_scatter_plts, axis=[ax_x,ax_y])\n",
    "    def wrapped(**interact_params):\n",
    "        nonlocal inp\n",
    "        lst_scatter_plts = []\n",
    "        output = shape_function(size, inp, **interact_params)\n",
    "        marks = sorted(fig.marks, key=lambda x: (x.marker, x.colors[0]))\n",
    "        output = sorted(output, key=lambda x: (x['options']['marker'], x['options']['color']))\n",
    "        for old_points, dictionary in zip(marks, output):\n",
    "            options = dictionary['options']\n",
    "            coords = dictionary['coords']\n",
    "            old_points.x = list(zip(*coords))[0]\n",
    "            old_points.y =list(zip(*coords))[1]\n",
    "            old_points.colors=[options['color']]\n",
    "            old_points.marker=options['marker']\n",
    "        inp = output\n",
    "    display_widgets = widgets.interactive(wrapped, **interact_params)\n",
    "    display(display_widgets)\n",
    "    display(fig)"
   ]
  },
  {
   "cell_type": "code",
   "execution_count": 560,
   "metadata": {},
   "outputs": [],
   "source": [
    "DARK_BLUE = '#475A77'\n",
    "GOLDENROD = '#FEC62C'"
   ]
  },
  {
   "cell_type": "code",
   "execution_count": 561,
   "metadata": {},
   "outputs": [],
   "source": [
    "def cute_shape(size, plotting_info, time, ratio):\n",
    "    # build attribute grid where if there is no shape it is a 0, and dict of attribute where there is a shape\n",
    "    attribute_grid = [[0] * size for _ in range(size)]\n",
    "    for coords_and_options in plotting_info:\n",
    "        coords = coords_and_options['coords']\n",
    "        options = coords_and_options['options']\n",
    "        for i,j in coords:\n",
    "            attribute_grid[i][j] = options.copy()\n",
    "\n",
    "    # check if the neighbor is satisfied\n",
    "    def neighbors_are_similar(x,y):\n",
    "        attribute = attribute_grid[x][y] \n",
    "        similar_count = different_count = 0\n",
    "        for i in range(max(0, x-1), min(size, x+2)):\n",
    "            for j in range(max(0, y-1), min(size, y+2)):\n",
    "                if attribute_grid[i][j] != 0 and (i != x or j != y):\n",
    "                    if attribute['marker'] == attribute_grid[i][j]['marker']:\n",
    "                        similar_count += 1\n",
    "                    else:\n",
    "                        different_count += 1\n",
    "        return different_count+similar_count != 0 and similar_count/(different_count+similar_count) > ratio\n",
    "    \n",
    "    # set the happiness colors for all shapes\n",
    "    for coords_and_options in plotting_info:\n",
    "        coords = coords_and_options['coords']\n",
    "        options = coords_and_options['options']\n",
    "        for i,j in coords:\n",
    "            if not neighbors_are_similar(i, j):\n",
    "                attribute_grid[i][j]['color'] = DARK_BLUE\n",
    "            else:\n",
    "                attribute_grid[i][j]['color'] = GOLDENROD\n",
    "                \n",
    "    # for visualizing the board changing\n",
    "    if time !=0 and time < 1000:\n",
    "        #find the unhappy shape\n",
    "        unhappy_shape_coord = None\n",
    "        unhappy_shape = None\n",
    "        for i in range(size):\n",
    "            if unhappy_shape:\n",
    "                break\n",
    "            for j in range(size):\n",
    "                if attribute_grid[i][j] != 0 and attribute_grid[i][j]['color'] == DARK_BLUE:\n",
    "                    unhappy_shape = attribute_grid[i][j]\n",
    "                    unhappy_shape_coord = [i,j]\n",
    "        displaced = True\n",
    "        if unhappy_shape:\n",
    "            while displaced:\n",
    "                new_coord = [np.random.randint(0, size), np.random.randint(0, size)]\n",
    "                if attribute_grid[new_coord[0]][new_coord[1]] == 0:\n",
    "                    attribute_grid[unhappy_shape_coord[0]][unhappy_shape_coord[1]] = 0\n",
    "                    attribute_grid[new_coord[0]][new_coord[1]] = unhappy_shape\n",
    "                    displaced = False\n",
    "\n",
    "    # change grid to output format\n",
    "    merged_options_coordinates = []\n",
    "    for i in range(size):\n",
    "        for j in range(size):\n",
    "            options = attribute_grid[i][j]\n",
    "            if options != 0:\n",
    "                added = False\n",
    "                for dictionary in merged_options_coordinates:\n",
    "                    if dictionary['options'] == options:\n",
    "                        dictionary['coords'].append([i,j])\n",
    "                        added = True\n",
    "                        break\n",
    "                if not added:\n",
    "                    merged_options_coordinates.append({'options':options, 'coords':[[i,j]]})\n",
    "    return merged_options_coordinates"
   ]
  },
  {
   "cell_type": "code",
   "execution_count": 562,
   "metadata": {},
   "outputs": [],
   "source": [
    "inp= [{'options': {'color':'blue', 'marker':'diamond'}, 'coords':list(zip(np.random.choice(15,30), np.random.choice(10,30)))},\n",
    "      {'options': {'color':'blue', 'marker':'circle'}, 'coords':list(zip(np.random.choice(15,30), np.random.choice(15,30)))}]"
   ]
  },
  {
   "cell_type": "code",
   "execution_count": 563,
   "metadata": {},
   "outputs": [],
   "source": [
    "#widgets.Play(value=0, max=100)"
   ]
  },
  {
   "cell_type": "code",
   "execution_count": 569,
   "metadata": {
    "scrolled": false
   },
   "outputs": [
    {
     "data": {
      "application/vnd.jupyter.widget-view+json": {
       "model_id": "6244c3f2fed74fe09d0f7c843fb30a15",
       "version_major": 2,
       "version_minor": 0
      },
      "text/plain": [
       "A Jupyter Widget"
      ]
     },
     "metadata": {},
     "output_type": "display_data"
    },
    {
     "data": {
      "application/vnd.jupyter.widget-view+json": {
       "model_id": "f51cefc799924cc2ba5fc1b8c7283407",
       "version_major": 2,
       "version_minor": 0
      },
      "text/plain": [
       "A Jupyter Widget"
      ]
     },
     "metadata": {},
     "output_type": "display_data"
    }
   ],
   "source": [
    "shape_grid(4, cute_shape, 15, inp, time=widgets.Play(value=0, max=100), ratio=widgets.IntSlider(value=0.3, min=0, max=1))"
   ]
  },
  {
   "cell_type": "code",
   "execution_count": null,
   "metadata": {},
   "outputs": [],
   "source": []
  }
 ],
 "metadata": {
  "kernelspec": {
   "display_name": "Python 3",
   "language": "python",
   "name": "python3"
  },
  "language_info": {
   "codemirror_mode": {
    "name": "ipython",
    "version": 3
   },
   "file_extension": ".py",
   "mimetype": "text/x-python",
   "name": "python",
   "nbconvert_exporter": "python",
   "pygments_lexer": "ipython3",
   "version": "3.6.2"
  }
 },
 "nbformat": 4,
 "nbformat_minor": 2
}
