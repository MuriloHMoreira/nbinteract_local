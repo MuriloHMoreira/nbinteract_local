{
 "cells": [
  {
   "cell_type": "markdown",
   "metadata": {},
   "source": [
    "# Motivation\n",
    "\n",
    "The goal of nbinteract is to allow authors and educators to easily create\n",
    "interactive demos.\n",
    "\n",
    "Interactive explanations of concepts are useful for commmunicating and\n",
    "explaining tricky concepts. Consider these explanations for [linear\n",
    "regression][linreg] and [conditional probability][cond], for example.\n",
    "\n",
    "However, making an interactive webpage is challenging since it requires deep\n",
    "knowledge of web technologies and especially Javascript. Python developers/data\n",
    "scientists might not have this skillset but can create interactive demos in a\n",
    "Jupyter notebook through [Jupyter widgets][widgets]. Unfortunately, sharing\n",
    "these demos requires other users to download the notebook and run a notebook\n",
    "server on their own machines.\n",
    "\n",
    "nbinteract provides an easy way to convert Jupyter notebooks into HTML pages\n",
    "with interactive widgets. In addition, nbinteract has helper methods built on\n",
    "top of `ipywidgets` that allow users to create complicated visualizations with\n",
    "single function calls.\n",
    "\n",
    "[widgets]: http://jupyter.org/widgets.html\n",
    "[linreg]: http://setosa.io/ev/ordinary-least-squares-regression/\n",
    "[cond]: https://students.brown.edu/seeing-theory/compound-probability/index.html#third"
   ]
  }
 ],
 "metadata": {
  "kernelspec": {
   "display_name": "Python [default]",
   "language": "python",
   "name": "python3"
  },
  "language_info": {
   "codemirror_mode": {
    "name": "ipython",
    "version": 3
   },
   "file_extension": ".py",
   "mimetype": "text/x-python",
   "name": "python",
   "nbconvert_exporter": "python",
   "pygments_lexer": "ipython3",
   "version": "3.6.3"
  }
 },
 "nbformat": 4,
 "nbformat_minor": 2
}
