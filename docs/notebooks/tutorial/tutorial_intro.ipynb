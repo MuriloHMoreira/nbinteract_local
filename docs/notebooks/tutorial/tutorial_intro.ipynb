{
 "cells": [
  {
   "cell_type": "markdown",
   "metadata": {},
   "source": [
    "# Getting Started\n",
    "\n",
    "In the following set of pages, we will show you how to use `nbinteract` and its\n",
    "related tools. At the end of this tutorial, you will have a publicly viewable\n",
    "interactive webpage to share with the world!\n",
    "\n",
    "## Following Along\n",
    "\n",
    "The simplest way to follow this tutorial is to click the button below. It will\n",
    "launch a Jupyter server using Binder that comes pre-built with the necessary\n",
    "libraries.\n",
    "\n",
    "[![Binder](https://mybinder.org/badge.svg)](https://staging.mybinder.org/v2/gh/SamLau95/nbinteract-image/master?filepath=tutorial.ipynb)\n",
    "\n",
    "Clicking the button above opens an empty Jupyter Notebook you can fill in\n",
    "while going through the rest of this tutorial. (We've assumed you've worked\n",
    "with Jupyter notebooks before, so we won't go over how to use Jupyter.)\n",
    "\n",
    "Once you have your notebook open, you may skip to the next page of this\n",
    "tutorial.\n",
    "\n",
    "### Installing Locally\n",
    "\n",
    "If you prefer to work on your local machine, you can install the `nbinteract`\n",
    "package. To install the package, you must first have\n",
    "[Jupyter Notebook installed][install-nb]. Then, run:\n",
    "\n",
    "```\n",
    "pip install nbinteract\n",
    "# The next two commands can be skipped for notebook version 5.3 and above\n",
    "jupyter nbextension enable --py --sys-prefix bqplot\n",
    "jupyter nbextension enable --py --sys-prefix widgetsnbextension\n",
    "```\n",
    "\n",
    "Then, start your Jupyter notebook server using\n",
    "\n",
    "```\n",
    "jupyter notebook\n",
    "```\n",
    "\n",
    "Create a new notebook called `tutorial.ipynb` (we will use this filename in\n",
    "later parts of this tutorial).\n",
    "\n",
    "[install-nb]: http://jupyter.readthedocs.io/en/latest/install.html\n"
   ]
  }
 ],
 "metadata": {
  "kernelspec": {
   "display_name": "Python [default]",
   "language": "python",
   "name": "python3"
  },
  "language_info": {
   "codemirror_mode": {
    "name": "ipython",
    "version": 3
   },
   "file_extension": ".py",
   "mimetype": "text/x-python",
   "name": "python",
   "nbconvert_exporter": "python",
   "pygments_lexer": "ipython3",
   "version": "3.6.3"
  }
 },
 "nbformat": 4,
 "nbformat_minor": 2
}
