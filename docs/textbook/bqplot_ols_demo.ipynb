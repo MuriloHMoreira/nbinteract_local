{
 "cells": [
  {
   "cell_type": "code",
   "execution_count": 1,
   "metadata": {},
   "outputs": [],
   "source": [
    "from bqplot import *\n",
    "import bqplot.marks as bqm\n",
    "import bqplot.scales as bqs\n",
    "import bqplot.axes as bqa\n",
    "import numpy as np\n",
    "import bqplot as bq\n",
    "from IPython.display import display\n",
    "import ipywidgets as widgets"
   ]
  },
  {
   "cell_type": "code",
   "execution_count": 2,
   "metadata": {},
   "outputs": [
    {
     "data": {
      "application/vnd.jupyter.widget-view+json": {
       "model_id": "c25ce394e0084bda93ea6c6595d63cf4",
       "version_major": 2,
       "version_minor": 0
      },
      "text/plain": [
       "A Jupyter Widget"
      ]
     },
     "metadata": {},
     "output_type": "display_data"
    }
   ],
   "source": [
    "def update_line(change):\n",
    "    # create line fit to data and display equation\n",
    "    lin.x = [np.min(scat.x), np.max(scat.x)]\n",
    "    poly = np.polyfit(scat.x, scat.y, 1)\n",
    "    lin.y = np.polyval(poly, lin.x)\n",
    "    label.value = 'y = {:.2f} + {:.2f}x'.format(poly[1], poly[0])   \n",
    "    \n",
    "# create initial data set\n",
    "size = 10\n",
    "np.random.seed(0)\n",
    "x_data = np.random.randn(size) \n",
    "y_data = np.random.randn(size) \n",
    "\n",
    "# set up plot elements\n",
    "sc_x = bqs.LinearScale()\n",
    "sc_y = bqs.LinearScale()\n",
    "ax_x = bqa.Axis(scale=sc_x)\n",
    "ax_y = bqa.Axis(scale=sc_y, tick_format='0.2f', orientation='vertical')\n",
    "\n",
    "# place data on scatter plot that allows point dragging\n",
    "scat = bqm.Scatter(x=x_data, \n",
    "                   y=y_data, \n",
    "                   scales={'x': sc_x, 'y': sc_y}, \n",
    "                   enable_move=True)\n",
    "# set up callback\n",
    "scat.observe(update_line, names=['x', 'y'])\n",
    "\n",
    "# linear fit line\n",
    "lin = bqm.Lines(scales={'x': sc_x, 'y': sc_y}, animation_duration=5000)\n",
    "# equation label\n",
    "label = widgets.Label()\n",
    "# containers\n",
    "fig = bq.Figure(marks=[scat, lin], axes=[ax_x, ax_y])\n",
    "box = widgets.VBox([label, fig])\n",
    "\n",
    "# initialize plot and equation and display\n",
    "update_line(None)\n",
    "display(box)"
   ]
  },
  {
   "cell_type": "code",
   "execution_count": 4,
   "metadata": {},
   "outputs": [],
   "source": [
    "def scatter(x_points, y_points):\n",
    "    def update_line(change):\n",
    "    # create line fit to data and display equation\n",
    "        lin.x = [np.min(scat.x), np.max(scat.x)]\n",
    "        poly = np.polyfit(scat.x, scat.y, 1)\n",
    "        lin.y = np.polyval(poly, lin.x)\n",
    "        label.value = 'y = {:.2f} + {:.2f}x'.format(poly[1], poly[0])   \n",
    "    sc_x = bqs.LinearScale()\n",
    "    sc_y = bqs.LinearScale()\n",
    "    ax_x = bqa.Axis(scale=sc_x)\n",
    "    ax_y = bqa.Axis(scale=sc_y, tick_format='0.2f', orientation='vertical')\n",
    "    scat = bqm.Scatter(x=x_points, \n",
    "                   y=y_points, \n",
    "                   scales={'x': sc_x, 'y': sc_y}, \n",
    "                   enable_move=True)\n",
    "    # set up callback\n",
    "    # set up callback\n",
    "    scat.observe(update_line, names=['x', 'y'])\n",
    "\n",
    "    # linear fit line\n",
    "    lin = bqm.Lines(scales={'x': sc_x, 'y': sc_y}, animation_duration=5000)\n",
    "    # equation label\n",
    "    label = widgets.Label()\n",
    "    # containers\n",
    "    fig = bq.Figure(marks=[scat, lin], axes=[ax_x, ax_y])\n",
    "    box = widgets.VBox([label, fig])\n",
    "\n",
    "    # initialize plot and equation and display\n",
    "    update_line(None)\n",
    "    display(box)\n"
   ]
  },
  {
   "cell_type": "code",
   "execution_count": 5,
   "metadata": {},
   "outputs": [
    {
     "data": {
      "application/vnd.jupyter.widget-view+json": {
       "model_id": "fa0eb7effe394a08813f7f003b579d09",
       "version_major": 2,
       "version_minor": 0
      },
      "text/plain": [
       "A Jupyter Widget"
      ]
     },
     "metadata": {},
     "output_type": "display_data"
    }
   ],
   "source": [
    "scatter(np.random.randn(size), np.random.randn(size))"
   ]
  },
  {
   "cell_type": "code",
   "execution_count": null,
   "metadata": {},
   "outputs": [],
   "source": []
  }
 ],
 "metadata": {
  "kernelspec": {
   "display_name": "Python 3",
   "language": "python",
   "name": "python3"
  },
  "language_info": {
   "codemirror_mode": {
    "name": "ipython",
    "version": 3
   },
   "file_extension": ".py",
   "mimetype": "text/x-python",
   "name": "python",
   "nbconvert_exporter": "python",
   "pygments_lexer": "ipython3",
   "version": "3.6.2"
  }
 },
 "nbformat": 4,
 "nbformat_minor": 2
}
