{
 "cells": [
  {
   "cell_type": "markdown",
   "metadata": {},
   "source": [
    "# Tutorial"
   ]
  },
  {
   "cell_type": "markdown",
   "metadata": {},
   "source": [
    "In the following set of pages, we will show you how to use `nbinteract` and its related tools.\n",
    "\n",
    "At the end of the tutorial, you will be able to create complex, interactive webpages using Jupyter notebooks."
   ]
  },
  {
   "cell_type": "markdown",
   "metadata": {},
   "source": [
    "## Following Along"
   ]
  },
  {
   "cell_type": "markdown",
   "metadata": {},
   "source": [
    "The simplest way to follow this tutorial is to click the button below. It will launch a Jupyter server using Binder that comes pre-built with the necessary libraries.\n",
    "\n",
    "[![Binder](https://mybinder.org/badge.svg)](https://mybinder.org/v2/gh/SamLau95/nbinteract-image/master)\n",
    "\n",
    "We suggest clicking the badge, creating a notebook by click `New` -> `Python 3`, and typing/pasting in the code in this tutorial to run it yourself."
   ]
  },
  {
   "cell_type": "markdown",
   "metadata": {},
   "source": [
    "## Using Interact"
   ]
  },
  {
   "cell_type": "markdown",
   "metadata": {},
   "source": [
    "The `ipywidgets` library provides the simplest way to get started writing interactive documents. Although the library itself has its own documentation, we will provide a quick overview to let you get started as quickly as possible.\n",
    "\n",
    "After reading this page, you will be able to create simple interactive webpages using Jupyter notebooks.\n",
    "\n",
    "We start by importing the `interact` function:"
   ]
  },
  {
   "cell_type": "code",
   "execution_count": 1,
   "metadata": {},
   "outputs": [],
   "source": [
    "from ipywidgets import interact"
   ]
  },
  {
   "cell_type": "markdown",
   "metadata": {},
   "source": [
    "The `interact` function takes in a function and produces an interface to call the function with different parameters."
   ]
  },
  {
   "cell_type": "code",
   "execution_count": 3,
   "metadata": {},
   "outputs": [
    {
     "data": {
      "text/plain": [
       "4"
      ]
     },
     "execution_count": 3,
     "metadata": {},
     "output_type": "execute_result"
    }
   ],
   "source": [
    "def square(x):\n",
    "    return x * x\n",
    "\n",
    "square(2)"
   ]
  },
  {
   "cell_type": "markdown",
   "metadata": {},
   "source": [
    "Pass the `square` function into `interact` and specify `square`'s arguments like so:"
   ]
  },
  {
   "cell_type": "code",
   "execution_count": 9,
   "metadata": {},
   "outputs": [
    {
     "data": {
      "application/vnd.jupyter.widget-view+json": {
       "model_id": "a2f8c13104b5483384bc8b0789cfedf5",
       "version_major": 2,
       "version_minor": 0
      },
      "text/plain": [
       "A Jupyter Widget"
      ]
     },
     "metadata": {},
     "output_type": "display_data"
    }
   ],
   "source": [
    "interact(square, x=10);"
   ]
  },
  {
   "cell_type": "markdown",
   "metadata": {},
   "source": [
    "To control the range of values `x` can take, you can pass in a tuple of the same format as Python's `range` function:"
   ]
  },
  {
   "cell_type": "code",
   "execution_count": 10,
   "metadata": {},
   "outputs": [
    {
     "data": {
      "application/vnd.jupyter.widget-view+json": {
       "model_id": "1fd027b9f4074479807125271028ce78",
       "version_major": 2,
       "version_minor": 0
      },
      "text/plain": [
       "A Jupyter Widget"
      ]
     },
     "metadata": {},
     "output_type": "display_data"
    }
   ],
   "source": [
    "interact(square, x=(0, 100, 10));"
   ]
  },
  {
   "cell_type": "markdown",
   "metadata": {},
   "source": [
    "Notice that `interact` automatically generates a slider because the argument is numeric. Other types of arguments will generate different types of interfaces. For example, a string will generate a textbox."
   ]
  },
  {
   "cell_type": "code",
   "execution_count": 11,
   "metadata": {},
   "outputs": [],
   "source": [
    "def friends(name, number):\n",
    "    return '{} has {} friends!'.format(name, number)"
   ]
  },
  {
   "cell_type": "code",
   "execution_count": 13,
   "metadata": {},
   "outputs": [
    {
     "data": {
      "application/vnd.jupyter.widget-view+json": {
       "model_id": "1fd6dfbd70d34d8db2129752d01e011d",
       "version_major": 2,
       "version_minor": 0
      },
      "text/plain": [
       "A Jupyter Widget"
      ]
     },
     "metadata": {},
     "output_type": "display_data"
    }
   ],
   "source": [
    "interact(friends, name='Sam', number=(5, 10));"
   ]
  },
  {
   "cell_type": "markdown",
   "metadata": {},
   "source": [
    "And a dictionary will generate a dropdown menu:"
   ]
  },
  {
   "cell_type": "code",
   "execution_count": 14,
   "metadata": {
    "scrolled": true
   },
   "outputs": [
    {
     "data": {
      "application/vnd.jupyter.widget-view+json": {
       "model_id": "17827042ec9649acac5e30dfe471e182",
       "version_major": 2,
       "version_minor": 0
      },
      "text/plain": [
       "A Jupyter Widget"
      ]
     },
     "metadata": {},
     "output_type": "display_data"
    }
   ],
   "source": [
    "interact(friends, name='Sam', number={'One': 1, 'Five': 5, 'Ten': 10});"
   ]
  },
  {
   "cell_type": "markdown",
   "metadata": {},
   "source": [
    "Here's the complete list of each argument type and the widget it generates:\n",
    "\n",
    "| Keyword argument                                            | Widget      |\n",
    "| -------                                                     | ------      |\n",
    "| `True` or `False`                                           | Checkbox    |\n",
    "| `'Hi there'`                                                | Text        |\n",
    "| value or (min,max) or (min,max,step) if integers are passed | IntSlider   |\n",
    "| value or (min,max) or (min,max,step) if floats are passed   | FloatSlider |\n",
    "| `['orange','apple']` or `{'one':1,'two':2}`                 | Dropdown    |\n"
   ]
  },
  {
   "cell_type": "markdown",
   "metadata": {},
   "source": [
    "For more details on using `interact`, see the [official `ipywidgets` documentation](http://ipywidgets.readthedocs.io/en/stable/examples/Using%20Interact.html)."
   ]
  },
  {
   "cell_type": "markdown",
   "metadata": {},
   "source": [
    "## Exporting the Notebook to an HTML Page\n",
    "\n",
    "If you have been following along, you should now have a notebook that contains interactive widgets. You are now ready to generate an interactive webpage.\n",
    "\n",
    "Open a terminal and type the following (on Binder, you can go back to the directory view and click New -> Terminal):\n",
    "\n",
    "```\n",
    "nbinteract NOTEBOOK_NAME.ipynb\n",
    "```\n",
    "\n",
    "Where `NOTEBOOK_NAME` is replaced with the name of your notebook. You should now have a `NOTEBOOK_NAME.html` file in the same directory as your notebook.\n",
    "\n",
    "This HTML file can be hosted online using free services like [Github Pages](https://pages.github.com/). The webpage will contain the contents of your notebook and your widgets will be fully functional."
   ]
  },
  {
   "cell_type": "markdown",
   "metadata": {},
   "source": [
    "## Creating Interactive Webpages"
   ]
  },
  {
   "cell_type": "markdown",
   "metadata": {},
   "source": [
    "You have learned a simple workflow to create interactive webpages:\n",
    "    \n",
    "1. Write a Jupyter notebook containing Python functions\n",
    "2. Use `interact` to create UI elements to interact with the functions.\n",
    "3. Run `nbinteract NOTEBOOK_NAME.ipynb` in your terminal to generate an interactive webpage using your notebook code.\n",
    "\n",
    "While simple, this workflow is useful for many use cases because you can write arbitrary code in Python functions. We will continue the tutorial by demonstrating how to create and publish dynamic data visualizations."
   ]
  }
 ],
 "metadata": {
  "kernelspec": {
   "display_name": "Python [default]",
   "language": "python",
   "name": "python3"
  },
  "language_info": {
   "codemirror_mode": {
    "name": "ipython",
    "version": 3
   },
   "file_extension": ".py",
   "mimetype": "text/x-python",
   "name": "python",
   "nbconvert_exporter": "python",
   "pygments_lexer": "ipython3",
   "version": "3.5.2"
  }
 },
 "nbformat": 4,
 "nbformat_minor": 2
}
