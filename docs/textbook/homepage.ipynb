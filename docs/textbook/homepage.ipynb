{
 "cells": [
  {
   "cell_type": "code",
   "execution_count": 19,
   "metadata": {},
   "outputs": [],
   "source": [
    "# HIDDEN\n",
    "import numpy as np\n",
    "np.set_printoptions(threshold=10)\n",
    "np.random.seed(64)"
   ]
  },
  {
   "cell_type": "markdown",
   "metadata": {},
   "source": [
    "## nbinteract"
   ]
  },
  {
   "cell_type": "markdown",
   "metadata": {},
   "source": [
    "`nbinteract` is a Python package that creates interactive webpages from Jupyter notebooks. `nbinteract` has built-in support for interactive plotting. These interactions are driven by data, not callbacks, allowing authors to focus on the logic of their programs.\n",
    "\n",
    "`nbinteract` is most useful for:\n",
    "\n",
    "- Data scientists that want to create simple interactive blog posts without having\n",
    "  to know / work with Javascript.\n",
    "- Instructors that want to include interactive examples in their textbooks.\n",
    "- Students that want to publish data analysis that contains interactive demos."
   ]
  },
  {
   "cell_type": "markdown",
   "metadata": {},
   "source": [
    "## Examples"
   ]
  },
  {
   "cell_type": "markdown",
   "metadata": {},
   "source": [
    "Most plotting functions from other libraries (e.g. `matplotlib`) take data as input. `nbinteract`'s plotting functions take functions as input."
   ]
  },
  {
   "cell_type": "code",
   "execution_count": 20,
   "metadata": {},
   "outputs": [
    {
     "data": {
      "text/plain": [
       "array([ 11.10032294,   8.01737258,   8.84975049, ...,   9.86721442,\n",
       "        11.06511688,  10.88371858])"
      ]
     },
     "execution_count": 20,
     "metadata": {},
     "output_type": "execute_result"
    }
   ],
   "source": [
    "import numpy as np\n",
    "import nbinteract as nbi\n",
    "\n",
    "def normal(mean, sd):\n",
    "    '''Returns 1000 points drawn at random fron N(mean, sd)'''\n",
    "    return np.random.normal(mean, sd, 1000)\n",
    "\n",
    "normal(10, 1.0)"
   ]
  },
  {
   "cell_type": "code",
   "execution_count": 21,
   "metadata": {
    "scrolled": false
   },
   "outputs": [
    {
     "data": {
      "application/vnd.jupyter.widget-view+json": {
       "model_id": "a8697ebd419f4cbfbfda7d8d4489d539",
       "version_major": 2,
       "version_minor": 0
      },
      "text/plain": [
       "A Jupyter Widget"
      ]
     },
     "metadata": {},
     "output_type": "display_data"
    }
   ],
   "source": [
    "# Plot aesthetics\n",
    "options = {\n",
    "    'xlim': (-2, 12),\n",
    "    'ylim': (0, 0.7),\n",
    "    'bins': 20\n",
    "}\n",
    "\n",
    "# Pass in the `normal` function and let user change mean and sd.\n",
    "# Whenever the user interacts with the sliders, the `normal` function\n",
    "# is called and the returned data are plotted.\n",
    "nbi.hist(normal, mean=(0, 10), sd=(0, 2.0), options=options)"
   ]
  },
  {
   "cell_type": "markdown",
   "metadata": {},
   "source": [
    "Simulations are easy to create using `nbinteract`. In this simulation, we roll a die and plot the running average of the rolls. We can see that with more rolls, the average gets closer to the expected value: 3.5."
   ]
  },
  {
   "cell_type": "code",
   "execution_count": 22,
   "metadata": {},
   "outputs": [],
   "source": [
    "rolls = np.random.choice([1, 2, 3, 4, 5, 6], size=300)\n",
    "averages = np.cumsum(rolls) / np.arange(1, 301)\n",
    "\n",
    "def x_vals(num_rolls):\n",
    "    return range(num_rolls)\n",
    "\n",
    "# The function to generate y-values gets called with the\n",
    "# x-values as its first argument.\n",
    "def y_vals(xs):\n",
    "    return averages[:len(xs)]"
   ]
  },
  {
   "cell_type": "code",
   "execution_count": 23,
   "metadata": {},
   "outputs": [
    {
     "data": {
      "application/vnd.jupyter.widget-view+json": {
       "model_id": "083faded26d2404b8e5e2b7210780f3e",
       "version_major": 2,
       "version_minor": 0
      },
      "text/plain": [
       "A Jupyter Widget"
      ]
     },
     "metadata": {},
     "output_type": "display_data"
    }
   ],
   "source": [
    "nbi.line(x_vals, y_vals, num_rolls=(1, 300))"
   ]
  },
  {
   "cell_type": "markdown",
   "metadata": {},
   "source": [
    "## Publishing\n",
    "\n",
    "From a notebook cell:\n",
    "\n",
    "```python\n",
    "# Run in a notebook cell to convert the notebook into a\n",
    "# publishable HTML page\n",
    "nbi.publish('landing_page.ipynb')\n",
    "```\n",
    "\n",
    "From the command line:\n",
    "\n",
    "```bash\n",
    "# Run on the command line to convert the notebook into a\n",
    "# publishable HTML page.\n",
    "nbinteract landing_page.ipynb\n",
    "```\n",
    "\n",
    "For more information on publishing, see the [tutorial][] which has a complete walkthrough on publishing a notebook to the web.\n",
    "\n",
    "[tutorial]: /tutorial/tutorial_getting_started.html"
   ]
  },
  {
   "cell_type": "markdown",
   "metadata": {},
   "source": [
    "## Installation\n",
    "\n",
    "Using `pip`:\n",
    "\n",
    "```bash\n",
    "pip install nbinteract\n",
    "\n",
    "# The next two lines can be skipped for notebook version 5.3 and above\n",
    "jupyter nbextension enable --py --sys-prefix widgetsnbextension\n",
    "jupyter nbextension enable --py --sys-prefix bqplot\n",
    "```\n",
    "\n",
    "You may now import the `nbinteract` package in Python code and use the `nbinteract` CLI command to convert notebooks to HTML pages."
   ]
  },
  {
   "cell_type": "markdown",
   "metadata": {},
   "source": [
    "## Documentation\n",
    "\n",
    "Access the tutorials, examples, and documentation for `nbinteract` using the links in the sidebar."
   ]
  }
 ],
 "metadata": {
  "kernelspec": {
   "display_name": "Python 3",
   "language": "python",
   "name": "python3"
  },
  "language_info": {
   "codemirror_mode": {
    "name": "ipython",
    "version": 3
   },
   "file_extension": ".py",
   "mimetype": "text/x-python",
   "name": "python",
   "nbconvert_exporter": "python",
   "pygments_lexer": "ipython3",
   "version": "3.6.3"
  }
 },
 "nbformat": 4,
 "nbformat_minor": 2
}
