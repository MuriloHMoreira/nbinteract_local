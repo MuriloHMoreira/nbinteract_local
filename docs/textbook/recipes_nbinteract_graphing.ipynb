{
 "cells": [
  {
   "cell_type": "markdown",
   "metadata": {},
   "source": [
    "# Plotting using `nbinteract`"
   ]
  },
  {
   "cell_type": "markdown",
   "metadata": {},
   "source": [
    "`nbinteract` comes with a set of functions that produce Javascript-based plots designed for interaction.\n",
    "\n",
    "Most plotting functions that come with `nbinteract` take in response functions that return the **data** to be plotted."
   ]
  },
  {
   "cell_type": "code",
   "execution_count": 1,
   "metadata": {},
   "outputs": [],
   "source": [
    "import nbinteract as nbi\n",
    "import numpy as np"
   ]
  },
  {
   "cell_type": "markdown",
   "metadata": {},
   "source": [
    "For a complete API reference for each function, you may type the function name in a cell and add a `?` at the end. For example, to view the API reference for `nbi.hist`:"
   ]
  },
  {
   "cell_type": "code",
   "execution_count": 2,
   "metadata": {},
   "outputs": [],
   "source": [
    "nbi.hist?"
   ]
  },
  {
   "cell_type": "markdown",
   "metadata": {},
   "source": [
    "### `nbinteract.hist`"
   ]
  },
  {
   "cell_type": "markdown",
   "metadata": {},
   "source": [
    "`hist` generates a histogram that allows interaction with the parameters for the response function. \n",
    "\n",
    "`hist` takes in a single response function. The response function returns the array of numerical values that will be shown in the histogram. The `hist` function allows interaction with the response function's parameters by specifying them as keyword arguments in the same format as `ipywidgets.interact`. Any argument that can be used for `ipywidgets.interact` can be used for `hist`."
   ]
  },
  {
   "cell_type": "code",
   "execution_count": 3,
   "metadata": {},
   "outputs": [],
   "source": [
    "def hist_response_function(mean, sd, size=1000):\n",
    "    '''\n",
    "    Returns 1000 values picked at random from the normal\n",
    "    distribution with the mean and SD given.\n",
    "    '''\n",
    "    return np.random.normal(loc=mean, scale=sd, size=1000)"
   ]
  },
  {
   "cell_type": "code",
   "execution_count": 4,
   "metadata": {
    "scrolled": false
   },
   "outputs": [
    {
     "data": {
      "application/vnd.jupyter.widget-view+json": {
       "model_id": "90bdab3ec9924768a88860330ef86c0d",
       "version_major": 2,
       "version_minor": 0
      },
      "text/plain": [
       "A Jupyter Widget"
      ]
     },
     "metadata": {},
     "output_type": "display_data"
    },
    {
     "data": {
      "application/vnd.jupyter.widget-view+json": {
       "model_id": "91362ad3cd6e451a8902dd2ed8aab25e",
       "version_major": 2,
       "version_minor": 0
      },
      "text/plain": [
       "A Jupyter Widget"
      ]
     },
     "metadata": {},
     "output_type": "display_data"
    }
   ],
   "source": [
    "nbi.hist(hist_response_function, mean=(0, 10), sd=(0, 2.0, 0.2))"
   ]
  },
  {
   "cell_type": "markdown",
   "metadata": {},
   "source": [
    "If you interact with the above plot, you may notice that the plot's x and y-axes will automatically scale to match the input data. You can change plot parameters like the axes limits through the `options` parameter of the plotting functions:"
   ]
  },
  {
   "cell_type": "code",
   "execution_count": 15,
   "metadata": {},
   "outputs": [
    {
     "data": {
      "application/vnd.jupyter.widget-view+json": {
       "model_id": "4f3f7776a22d49988193c305324b51c9",
       "version_major": 2,
       "version_minor": 0
      },
      "text/plain": [
       "A Jupyter Widget"
      ]
     },
     "metadata": {},
     "output_type": "display_data"
    },
    {
     "data": {
      "application/vnd.jupyter.widget-view+json": {
       "model_id": "5e378f62a5ef4878bb147c1c02a37fb2",
       "version_major": 2,
       "version_minor": 0
      },
      "text/plain": [
       "A Jupyter Widget"
      ]
     },
     "metadata": {},
     "output_type": "display_data"
    }
   ],
   "source": [
    "options = {\n",
    "    'title': '1000 random points from normal distribution',\n",
    "    'xlim': (0, 15),\n",
    "    'ylim': (0, 0.4),\n",
    "}\n",
    "nbi.hist(hist_response_function, options=options, mean=(0, 10), sd=(0, 2.0, 0.2))"
   ]
  },
  {
   "cell_type": "markdown",
   "metadata": {},
   "source": [
    "You may call `nbinteract` plotting functions with plain data as the input as well:"
   ]
  },
  {
   "cell_type": "code",
   "execution_count": 6,
   "metadata": {},
   "outputs": [
    {
     "data": {
      "application/vnd.jupyter.widget-view+json": {
       "model_id": "8abea20935cc4f4394f218b436c37c5f",
       "version_major": 2,
       "version_minor": 0
      },
      "text/plain": [
       "A Jupyter Widget"
      ]
     },
     "metadata": {},
     "output_type": "display_data"
    },
    {
     "data": {
      "application/vnd.jupyter.widget-view+json": {
       "model_id": "45490345580b445898e2f3b17d9b1679",
       "version_major": 2,
       "version_minor": 0
      },
      "text/plain": [
       "A Jupyter Widget"
      ]
     },
     "metadata": {},
     "output_type": "display_data"
    }
   ],
   "source": [
    "nbi.hist(np.random.normal(size=1000))"
   ]
  },
  {
   "cell_type": "markdown",
   "metadata": {},
   "source": [
    "### `nbinteract.bar`"
   ]
  },
  {
   "cell_type": "markdown",
   "metadata": {},
   "source": [
    "`bar` generates an bar plot that allows interaction with the parameters for the response functions.\n",
    "\n",
    "The first two arguments of `bar` are response functions that return the x and y-axis data arrays, respectively. Either argument can be arrays themselves. Arguments for the response functions must be passed in as keyword arguments to `bar` in the format expected by interact. The response function for the y-axis data will be called with the x-axis data as its first argument.\n",
    "\n",
    "For example, in the bar plot below `categories` generates the categories to plot on the x-axis and `heights` generates the y-axis heights. The `heights` function uses the parameter `xs` which is the array of x-axis data points. "
   ]
  },
  {
   "cell_type": "code",
   "execution_count": 17,
   "metadata": {},
   "outputs": [
    {
     "data": {
      "application/vnd.jupyter.widget-view+json": {
       "model_id": "3d937be5b727431bb5a2693a5a465bd5",
       "version_major": 2,
       "version_minor": 0
      },
      "text/plain": [
       "A Jupyter Widget"
      ]
     },
     "metadata": {},
     "output_type": "display_data"
    },
    {
     "data": {
      "application/vnd.jupyter.widget-view+json": {
       "model_id": "0dd25578391b4034b72211fff30f4049",
       "version_major": 2,
       "version_minor": 0
      },
      "text/plain": [
       "A Jupyter Widget"
      ]
     },
     "metadata": {},
     "output_type": "display_data"
    }
   ],
   "source": [
    "def categories(n): \n",
    "    return np.arange(n)\n",
    "\n",
    "def heights(xs, offset):\n",
    "    return xs + offset\n",
    "\n",
    "opts = {\n",
    "    'ylim': (0, 20),\n",
    "}\n",
    "\n",
    "nbi.bar(categories, heights, n=(0, 10), offset=(1, 10), options=opts)"
   ]
  },
  {
   "cell_type": "markdown",
   "metadata": {},
   "source": [
    "### `nbinteract.scatter_drag`"
   ]
  },
  {
   "cell_type": "markdown",
   "metadata": {},
   "source": [
    "`scatter_drag` generates a scatter plot that allows interaction through clicking and dragging the points on the graph. \n",
    "\n",
    "`scatter_drag` takes in two lists/arrays consisting of the x-coordinates and y-coordinates of the points to plot. It generates an interactive scatter plot where the points can be dragged by the user and a best fit line is updated automatically according to the placement of the points.\n",
    "\n",
    "`scatter_drag` does not allow response functions as inputs."
   ]
  },
  {
   "cell_type": "code",
   "execution_count": 13,
   "metadata": {
    "scrolled": false
   },
   "outputs": [
    {
     "data": {
      "application/vnd.jupyter.widget-view+json": {
       "model_id": "33e47c124c0d46a5a6d81db9d26605c9",
       "version_major": 2,
       "version_minor": 0
      },
      "text/plain": [
       "A Jupyter Widget"
      ]
     },
     "metadata": {},
     "output_type": "display_data"
    }
   ],
   "source": [
    "x_coords = np.arange(10)\n",
    "y_coords = np.arange(10) + np.random.rand(10)\n",
    "\n",
    "opts = {'xlim': (0, 9), 'ylim': (0, 11), 'animation_duration': 250}\n",
    "\n",
    "nbi.scatter_drag(x_coords, y_coords, options=opts)"
   ]
  },
  {
   "cell_type": "markdown",
   "metadata": {},
   "source": [
    "### `nbinteract.scatter`"
   ]
  },
  {
   "cell_type": "markdown",
   "metadata": {},
   "source": [
    "`scatter` generates a scatter plot that allows interaction with the parameters to the response functions. \n",
    "This is different from scatter_drag which facilitates interaction using click and drag actions.\n",
    "\n",
    "The first two arguments of `scatter` are response functions that return the x and y-axis coordinates, respectively. Either argument can be arrays themselves. Arguments for the response functions must be passed in as keyword arguments to `scatter` in the format expected by interact. The response function for the y-coordinates will be called with the x-coordinates as its first argument."
   ]
  },
  {
   "cell_type": "code",
   "execution_count": 12,
   "metadata": {
    "scrolled": false
   },
   "outputs": [
    {
     "data": {
      "application/vnd.jupyter.widget-view+json": {
       "model_id": "06160f35f38946a18b84ad5e481522be",
       "version_major": 2,
       "version_minor": 0
      },
      "text/plain": [
       "A Jupyter Widget"
      ]
     },
     "metadata": {},
     "output_type": "display_data"
    },
    {
     "data": {
      "application/vnd.jupyter.widget-view+json": {
       "model_id": "8e68957e126a4116896f478c6439ae07",
       "version_major": 2,
       "version_minor": 0
      },
      "text/plain": [
       "A Jupyter Widget"
      ]
     },
     "metadata": {},
     "output_type": "display_data"
    }
   ],
   "source": [
    "def x_values(n): return np.random.choice(100, n)\n",
    "def y_values(xs): return np.random.choice(100, len(xs))\n",
    "\n",
    "nbi.scatter(x_values, y_values, n=(0,200))"
   ]
  },
  {
   "cell_type": "markdown",
   "metadata": {},
   "source": [
    "### `nbinteract.line`"
   ]
  },
  {
   "cell_type": "markdown",
   "metadata": {},
   "source": [
    "`line` generates a scatter plot that allows interaction with the parameters to the response functions. \n",
    "\n",
    "The first two arguments of `line` are response functions that return the x and y-axis coordinates, respectively. Either argument can be arrays themselves. Arguments for the response functions must be passed in as keyword arguments to `line` in the format expected by interact. The response function for the y-coordinates will be called with the x-coordinates as its first argument."
   ]
  },
  {
   "cell_type": "code",
   "execution_count": 20,
   "metadata": {},
   "outputs": [
    {
     "data": {
      "application/vnd.jupyter.widget-view+json": {
       "model_id": "462965251321442a8bd40f37a16a5e68",
       "version_major": 2,
       "version_minor": 0
      },
      "text/plain": [
       "A Jupyter Widget"
      ]
     },
     "metadata": {},
     "output_type": "display_data"
    },
    {
     "data": {
      "application/vnd.jupyter.widget-view+json": {
       "model_id": "7f8d3afcc74c455f949990411ec7de4b",
       "version_major": 2,
       "version_minor": 0
      },
      "text/plain": [
       "A Jupyter Widget"
      ]
     },
     "metadata": {},
     "output_type": "display_data"
    }
   ],
   "source": [
    "def x_values(max): return np.arange(0, max)\n",
    "def y_values(xs, sd):\n",
    "    return xs + np.random.normal(0, scale=sd, size=len(xs))\n",
    "\n",
    "opts = {\n",
    "    'xlim': (0, 50),\n",
    "    'ylim': (0, 55),\n",
    "    'animation_duration': 250,\n",
    "}\n",
    "\n",
    "nbi.line(x_values, y_values, max=(10, 50), sd=(1, 10), options=opts)"
   ]
  },
  {
   "cell_type": "code",
   "execution_count": null,
   "metadata": {},
   "outputs": [],
   "source": []
  }
 ],
 "metadata": {
  "kernelspec": {
   "display_name": "Python 3",
   "language": "python",
   "name": "python3"
  },
  "language_info": {
   "codemirror_mode": {
    "name": "ipython",
    "version": 3
   },
   "file_extension": ".py",
   "mimetype": "text/x-python",
   "name": "python",
   "nbconvert_exporter": "python",
   "pygments_lexer": "ipython3",
   "version": "3.6.3"
  }
 },
 "nbformat": 4,
 "nbformat_minor": 2
}
