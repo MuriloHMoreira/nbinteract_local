{
 "cells": [
  {
   "cell_type": "code",
   "execution_count": 27,
   "metadata": {},
   "outputs": [],
   "source": [
    "# HIDDEN\n",
    "import numpy as np\n",
    "import pandas as pd\n",
    "import ipywidgets as widgets\n",
    "import nbinteract as nbi"
   ]
  },
  {
   "cell_type": "markdown",
   "metadata": {},
   "source": [
    "## nbinteract"
   ]
  },
  {
   "cell_type": "markdown",
   "metadata": {},
   "source": [
    "`nbinteract` is a set of tools to create interactive webpages using Jupyter notebooks. By writing Python code, you can use `nbinteract` to create explanations involving data with ease because of its support for interactive visualizations."
   ]
  },
  {
   "cell_type": "markdown",
   "metadata": {},
   "source": [
    "Suppose we want to simulate the classic coin flip experiment. In the short run, we may get more or less than exactly 50% heads. However, the long-run distribution of heads is bound to get closer and closer to 50%.\n",
    "\n",
    "For a rigged coin, the distribution of heads and tails changes. In the example below, we create a bar graph by writing a function that returns the number of heads and tails based on the number of coins flipped and the probability of the coin landing on heads. "
   ]
  },
  {
   "cell_type": "code",
   "execution_count": 24,
   "metadata": {},
   "outputs": [],
   "source": [
    "def simulate_coin_flips(coin, num_coins, p_heads):\n",
    "    coin_flips = list(np.random.choice(coin, size=num_coins, p=[p_heads, 1-p_heads]))\n",
    "    return [coin_flips.count('h'), coin_flips.count('t')]"
   ]
  },
  {
   "cell_type": "code",
   "execution_count": 25,
   "metadata": {},
   "outputs": [
    {
     "data": {
      "application/vnd.jupyter.widget-view+json": {
       "model_id": "f01ea86e04c44a32ade739b4daee53f7",
       "version_major": 2,
       "version_minor": 0
      },
      "text/plain": [
       "A Jupyter Widget"
      ]
     },
     "metadata": {},
     "output_type": "display_data"
    }
   ],
   "source": [
    "nbi.bar(x_fn=['h', 't'], y_fn=simulate_coin_flips, num_coins=(0,100), p_heads=(0.0,1.0))"
   ]
  },
  {
   "cell_type": "markdown",
   "metadata": {},
   "source": [
    "Another experiement we can simulate with `nbinteract` is the expected value of a random variable. This is a hard concept to grasp since expectation is the long-run average of many independent samples. It is easier to visualize this trend over time.\n",
    "\n",
    "Consider the expectation of a dice roll which converges to 3.5 over time.\n"
   ]
  },
  {
   "cell_type": "code",
   "execution_count": 75,
   "metadata": {},
   "outputs": [],
   "source": [
    "dice_rolls = [np.mean(np.random.choice(np.arange(1,7), size=i)) for i in range(1, 200)]\n",
    "\n",
    "def generate_x(num_rolls):\n",
    "    return range(1, num_rolls)\n",
    "\n",
    "def simulate_dice_roll(x_values):\n",
    "    return dice_rolls[1:len(x_values)]"
   ]
  },
  {
   "cell_type": "code",
   "execution_count": 76,
   "metadata": {},
   "outputs": [
    {
     "data": {
      "application/vnd.jupyter.widget-view+json": {
       "model_id": "84bfc1713d424f5d9e161f9b03a0b6c3",
       "version_major": 2,
       "version_minor": 0
      },
      "text/plain": [
       "A Jupyter Widget"
      ]
     },
     "metadata": {},
     "output_type": "display_data"
    }
   ],
   "source": [
    "nbi.line(x_fn=generate_x, y_fn=simulate_dice_roll, num_rolls=widgets.Play(min=0, max=200), options={'xlim':(0,200)})"
   ]
  },
  {
   "cell_type": "markdown",
   "metadata": {},
   "source": []
  }
 ],
 "metadata": {
  "kernelspec": {
   "display_name": "Python 3",
   "language": "python",
   "name": "python3"
  },
  "language_info": {
   "codemirror_mode": {
    "name": "ipython",
    "version": 3
   },
   "file_extension": ".py",
   "mimetype": "text/x-python",
   "name": "python",
   "nbconvert_exporter": "python",
   "pygments_lexer": "ipython3",
   "version": "3.6.2"
  }
 },
 "nbformat": 4,
 "nbformat_minor": 2
}
