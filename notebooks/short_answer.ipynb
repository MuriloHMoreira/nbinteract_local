{
 "cells": [
  {
   "cell_type": "code",
   "execution_count": 1,
   "metadata": {},
   "outputs": [],
   "source": [
    "import numpy as np\n",
    "import bqplot as bq\n",
    "import ipywidgets as widgets\n",
    "from IPython.display import display, clear_output\n",
    "import nbinteract as nb"
   ]
  },
  {
   "cell_type": "code",
   "execution_count": 11,
   "metadata": {},
   "outputs": [],
   "source": [
    "def short_answer(question, answer):\n",
    "    style = '<p style=\"line-height:18px;\">{}</p>'    \n",
    "    user_answer = widgets.Text(placeholder='Write your answer here')\n",
    "    submit_button = widgets.Button(description='Submit')\n",
    "    output_space = widgets.Label()\n",
    "    visual_correct = widgets.HTML()\n",
    "    def check_answer(text_content):\n",
    "        \n",
    "        if user_answer.value == answer:\n",
    "            output_space.value = 'Correct!'\n",
    "            visual_correct.value = '<i class=\"fa fa-check\" aria-hidden=\"true\" style=\"color:#71B307; font-size:2rem\"></i>'\n",
    "        else:\n",
    "            output_space.value = 'Incorrect sed'\n",
    "            visual_correct.value = '<i class=\"fa fa-times\" aria-hidden=\"true\" style=\"color:#F86700; font-size:2rem\"></i>'\n",
    "    submit_button.on_click(check_answer)\n",
    "    question_tag = widgets.HTML(style.format(question))\n",
    "    display(widgets.VBox([question_tag, widgets.HBox([user_answer, submit_button, visual_correct]), output_space]))"
   ]
  },
  {
   "cell_type": "code",
   "execution_count": 8,
   "metadata": {},
   "outputs": [
    {
     "data": {
      "application/vnd.jupyter.widget-view+json": {
       "model_id": "c6a84294349a439cb4c1bb146ac0b9a5",
       "version_major": 2,
       "version_minor": 0
      },
      "text/plain": [
       "A Jupyter Widget"
      ]
     },
     "metadata": {},
     "output_type": "display_data"
    }
   ],
   "source": [
    "short_answer('What is the best class at Berkeley?', 'Data 100')"
   ]
  },
  {
   "cell_type": "code",
   "execution_count": 5,
   "metadata": {},
   "outputs": [
    {
     "data": {
      "application/vnd.jupyter.widget-view+json": {
       "model_id": "97bf2b6090f34d5587c90687c809d3a2",
       "version_major": 2,
       "version_minor": 0
      },
      "text/plain": [
       "A Jupyter Widget"
      ]
     },
     "metadata": {},
     "output_type": "display_data"
    }
   ],
   "source": [
    "nb.multiple_choice(question=\"What is 1+1?\", answer_list=['1', '2', '3'], correct_answer = '2')"
   ]
  },
  {
   "cell_type": "code",
   "execution_count": 9,
   "metadata": {},
   "outputs": [],
   "source": [
    "import nbinteract as nb"
   ]
  },
  {
   "cell_type": "code",
   "execution_count": 10,
   "metadata": {},
   "outputs": [
    {
     "data": {
      "application/vnd.jupyter.widget-view+json": {
       "model_id": "1d2136c513a44d9fafd414da6be8ef00",
       "version_major": 2,
       "version_minor": 0
      },
      "text/plain": [
       "A Jupyter Widget"
      ]
     },
     "metadata": {},
     "output_type": "display_data"
    }
   ],
   "source": [
    "nb.scatter([1,2,3, 4, 5],[1,2,3,4, 5])"
   ]
  },
  {
   "cell_type": "code",
   "execution_count": null,
   "metadata": {},
   "outputs": [],
   "source": []
  }
 ],
 "metadata": {
  "kernelspec": {
   "display_name": "Python 3",
   "language": "python",
   "name": "python3"
  },
  "language_info": {
   "codemirror_mode": {
    "name": "ipython",
    "version": 3
   },
   "file_extension": ".py",
   "mimetype": "text/x-python",
   "name": "python",
   "nbconvert_exporter": "python",
   "pygments_lexer": "ipython3",
   "version": "3.6.2"
  }
 },
 "nbformat": 4,
 "nbformat_minor": 2
}
