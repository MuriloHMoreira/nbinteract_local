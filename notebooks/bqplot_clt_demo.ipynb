{
 "cells": [
  {
   "cell_type": "code",
   "execution_count": 62,
   "metadata": {},
   "outputs": [],
   "source": [
    "#Data science modules\n",
    "from datascience import *\n",
    "import matplotlib\n",
    "matplotlib.use('Agg', warn=False)\n",
    "%matplotlib inline\n",
    "import matplotlib.pyplot as plots\n",
    "plots.style.use('fivethirtyeight')\n",
    "import numpy as np\n",
    "\n",
    "# Interaction\n",
    "from IPython.display import display\n",
    "from functools import partial\n",
    "from ipywidgets import interact, interactive, fixed, interact_manual\n",
    "import ipywidgets as widgets"
   ]
  },
  {
   "cell_type": "code",
   "execution_count": 48,
   "metadata": {},
   "outputs": [],
   "source": [
    "from __future__ import print_function\n",
    "from bqplot import pyplot as plt\n",
    "from bqplot import topo_load\n",
    "from bqplot.interacts import panzoom\n",
    "import numpy as np\n",
    "import pandas as pd\n",
    "import datetime as dt\n",
    "from bqplot import *"
   ]
  },
  {
   "cell_type": "code",
   "execution_count": 64,
   "metadata": {},
   "outputs": [
    {
     "data": {
      "text/html": [
       "<table border=\"1\" class=\"dataframe\">\n",
       "    <thead>\n",
       "        <tr>\n",
       "            <th>Coin</th>\n",
       "        </tr>\n",
       "    </thead>\n",
       "    <tbody>\n",
       "        <tr>\n",
       "            <td>0   </td>\n",
       "        </tr>\n",
       "    </tbody>\n",
       "        <tr>\n",
       "            <td>1   </td>\n",
       "        </tr>\n",
       "    </tbody>\n",
       "</table>"
      ],
      "text/plain": [
       "Coin\n",
       "0\n",
       "1"
      ]
     },
     "execution_count": 64,
     "metadata": {},
     "output_type": "execute_result"
    }
   ],
   "source": [
    "coin = Table().with_column('Coin', np.arange(0,2))\n",
    "coin"
   ]
  },
  {
   "cell_type": "code",
   "execution_count": 65,
   "metadata": {},
   "outputs": [
    {
     "data": {
      "application/vnd.jupyter.widget-view+json": {
       "model_id": "e352a24c9ba4461e8f32c7d194540497",
       "version_major": 2,
       "version_minor": 0
      },
      "text/plain": [
       "A Jupyter Widget"
      ]
     },
     "metadata": {},
     "output_type": "display_data"
    }
   ],
   "source": [
    "def coin_sample_10(sample_num=0):\n",
    "    return coin.sample(sample_num)\n",
    "\n",
    "_ = interact(coin_sample_10, sample_num=(0, 20))"
   ]
  },
  {
   "cell_type": "code",
   "execution_count": 87,
   "metadata": {},
   "outputs": [],
   "source": [
    "# def plotly_coin_clt_hist(num_flips, repetitions=100):\n",
    "#     net_gain_coin_flips = make_array()\n",
    "#     for i in np.arange(repetitions):\n",
    "#         new_coin= coin.sample(num_flips)\n",
    "#         new_net_gain_coin_flip = new_coin.column('Coin').mean()\n",
    "#         net_gain_coin_flips = np.append(net_gain_coin_flips, new_net_gain_coin_flip)\n",
    "#     return net_gain_coin_flips\n",
    "# initial_flip = plotly_coin_clt_hist(100)"
   ]
  },
  {
   "cell_type": "code",
   "execution_count": 94,
   "metadata": {
    "scrolled": true
   },
   "outputs": [],
   "source": [
    "initial_flip = np.array(np.arange(0,1,0.1))"
   ]
  },
  {
   "cell_type": "code",
   "execution_count": 95,
   "metadata": {},
   "outputs": [],
   "source": [
    "# initial_flip = np.array([0,0.1,0.2,0.3,0.4,0.5])"
   ]
  },
  {
   "cell_type": "code",
   "execution_count": 96,
   "metadata": {},
   "outputs": [
    {
     "data": {
      "application/vnd.jupyter.widget-view+json": {
       "model_id": "9e6bcb9052854fcb9f38dba065299f53",
       "version_major": 2,
       "version_minor": 0
      },
      "text/plain": [
       "A Jupyter Widget"
      ]
     },
     "metadata": {},
     "output_type": "display_data"
    }
   ],
   "source": [
    "x_sc = LinearScale()\n",
    "y_sc = LinearScale()\n",
    "\n",
    "ax_x = Axis(label='X', scale=x_sc, grid_lines='solid')\n",
    "ax_y = Axis(label='Y', scale=y_sc, orientation='vertical', grid_lines='solid')\n",
    "\n",
    "hist = Hist(sample=initial_flip,  scales={'sample': x_sc, 'count': y_sc})\n",
    "fig = Figure(axes=[ax_x, ax_y], marks=[hist], title='First Example')\n",
    "fig"
   ]
  },
  {
   "cell_type": "code",
   "execution_count": 97,
   "metadata": {},
   "outputs": [],
   "source": [
    "int_slider = widgets.IntSlider(value=50, max=500)"
   ]
  },
  {
   "cell_type": "code",
   "execution_count": 98,
   "metadata": {},
   "outputs": [],
   "source": [
    "def coin_clt_hist(change, repetitions=100 ):\n",
    "    num_flips = change['new']\n",
    "    net_gain_coin_flips = make_array()\n",
    "    for i in np.arange(repetitions):\n",
    "        new_coin= coin.sample(num_flips)\n",
    "        new_net_gain_coin_flip = new_coin.column('Coin').mean()\n",
    "        net_gain_coin_flips = np.append(net_gain_coin_flips, new_net_gain_coin_flip)\n",
    "    hist.sample = net_gain_coin_flips\n",
    "    "
   ]
  },
  {
   "cell_type": "code",
   "execution_count": 99,
   "metadata": {},
   "outputs": [],
   "source": [
    "int_slider.unobserve_all()\n",
    "int_slider.observe(coin_clt_hist, names='value')"
   ]
  },
  {
   "cell_type": "code",
   "execution_count": 100,
   "metadata": {},
   "outputs": [
    {
     "data": {
      "application/vnd.jupyter.widget-view+json": {
       "model_id": "ba76b1b6790245519f42ebea2a6dd9f4",
       "version_major": 2,
       "version_minor": 0
      },
      "text/plain": [
       "A Jupyter Widget"
      ]
     },
     "metadata": {},
     "output_type": "display_data"
    }
   ],
   "source": [
    "VBox([int_slider, fig])"
   ]
  }
 ],
 "metadata": {
  "kernelspec": {
   "display_name": "Python 3",
   "language": "python",
   "name": "python3"
  },
  "language_info": {
   "codemirror_mode": {
    "name": "ipython",
    "version": 3
   },
   "file_extension": ".py",
   "mimetype": "text/x-python",
   "name": "python",
   "nbconvert_exporter": "python",
   "pygments_lexer": "ipython3",
   "version": "3.6.2"
  }
 },
 "nbformat": 4,
 "nbformat_minor": 2
}
