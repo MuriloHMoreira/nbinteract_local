{
 "cells": [
  {
   "cell_type": "code",
   "execution_count": 2,
   "metadata": {},
   "outputs": [],
   "source": [
    "import bqplot\n",
    "import numpy as np\n",
    "import pandas as pd\n",
    "import ipywidgets as widgets\n",
    "import pprint"
   ]
  },
  {
   "cell_type": "code",
   "execution_count": 3,
   "metadata": {},
   "outputs": [],
   "source": [
    "# input coordinates and class, function to modify board state \n",
    "def shape_grid(num_shapes, shape_function, size, inp, **interact_params):\n",
    "    sc_x = bqplot.scales.LinearScale(min=0, max=size)\n",
    "    sc_y = bqplot.scales.LinearScale(min=0, max=size)\n",
    "    ax_x = bqplot.axes.Axis(scale=sc_x)\n",
    "    ax_y = bqplot.axes.Axis(scale=sc_y, tick_format='0.2f', orientation='vertical')\n",
    "    ax_x.visible = False\n",
    "    ax_y.visible = False\n",
    "    \n",
    "    lst_scatter_plts = []\n",
    "    for i in range(num_shapes):\n",
    "        lst_scatter_plts.append(\n",
    "            bqplot.marks.Scatter(\n",
    "                   scales={'x': sc_x, 'y': sc_y}, ))\n",
    "#     layout = widgets.Layout(kw=dict(min_width='400px'))\n",
    "    fig = bqplot.Figure(marks=lst_scatter_plts, axis=[ax_x,ax_y], min_aspect_ratio=1, \n",
    "                        max_aspect_ratio=1, fig_margin={'top':10, 'bottom':60, 'left':60, 'right':60})\n",
    "    fig.layout.height = '600px'\n",
    "    fig.layout.width = '600px'\n",
    "    def wrapped(**interact_params):\n",
    "        nonlocal inp\n",
    "        lst_scatter_plts = []\n",
    "        output = shape_function(size, inp, **interact_params)\n",
    "        marks = fig.marks\n",
    "        # keep track of which dictionaries in new output have been added so that we can add remaining in the end\n",
    "        added = []\n",
    "        empty_old_points = []\n",
    "        for old_points in marks:\n",
    "            old_point_match = False\n",
    "            for dictionary in output:\n",
    "                if dictionary['options']['marker'] == old_points.marker and dictionary['options']['color'] == old_points.colors[0]:\n",
    "                    old_point_match = True\n",
    "                    added.append(dictionary)\n",
    "                    options = dictionary['options']\n",
    "                    coords = dictionary['coords']\n",
    "                    old_points.x = list(zip(*coords))[0]\n",
    "                    old_points.y = list(zip(*coords))[1]\n",
    "                    old_points.colors=[options['color']]\n",
    "                    old_points.marker=options['marker']\n",
    "            if not old_point_match:\n",
    "                old_points.x = []\n",
    "                old_points.y =[]\n",
    "                empty_old_points.append(old_points)\n",
    "        for dictionary in output:\n",
    "            if dictionary not in added:\n",
    "                old_points = empty_old_points.pop()\n",
    "                options = dictionary['options']\n",
    "                coords = dictionary['coords']\n",
    "                old_points.x = list(zip(*coords))[0]\n",
    "                old_points.y = list(zip(*coords))[1]\n",
    "                old_points.colors=[options['color']]\n",
    "                old_points.marker=options['marker']\n",
    "                added.append(dictionary)\n",
    "        fig.marks = fig.marks + [(bqplot.Lines(x=np.arange(5), y=np.arange(5), scales={'x': sc_x, 'y': sc_y},\n",
    "                   colors=[GOLDENROD]))]\n",
    "                \n",
    "                \n",
    "                \n",
    "                \n",
    "        inp = output\n",
    "    for marks in fig.marks:\n",
    "        marks.default_size = 120\n",
    "    display_widgets = widgets.interactive(wrapped, **interact_params)\n",
    "    display(display_widgets)\n",
    "    display(fig)"
   ]
  },
  {
   "cell_type": "code",
   "execution_count": 4,
   "metadata": {},
   "outputs": [],
   "source": [
    "DARK_BLUE = '#475A77'\n",
    "GOLDENROD = '#FEC62C'\n",
    "BRICK_RED = '#B22222'"
   ]
  },
  {
   "cell_type": "code",
   "execution_count": 5,
   "metadata": {},
   "outputs": [],
   "source": [
    "def cute_shape(size, plotting_info, time, ratio):\n",
    "    # build attribute grid where if there is no shape it is a 0, and dict of attribute where there is a shape\n",
    "    shape_color_mapping = {'circle': GOLDENROD, 'triangle-up': DARK_BLUE}\n",
    "    attribute_grid = [[0] * size for _ in range(size)]\n",
    "    for coords_and_options in plotting_info:\n",
    "        coords = coords_and_options['coords']\n",
    "        options = coords_and_options['options']\n",
    "        for i,j in coords:\n",
    "            attribute_grid[size-j-1][i] = options.copy()\n",
    "    \n",
    "    # check if the neighbor is satisfied\n",
    "    def neighbors_are_similar(x,y):\n",
    "        attribute = attribute_grid[x][y] \n",
    "        similar_count = different_count = 0\n",
    "        for i in range(max(0, x-1), min(size, x+2)):\n",
    "            for j in range(max(0, y-1), min(size, y+2)):\n",
    "                if attribute_grid[i][j] != 0 and (i != x or j != y):\n",
    "                    if attribute['marker'] == attribute_grid[i][j]['marker']:\n",
    "                        similar_count += 1\n",
    "                    else:\n",
    "                        different_count += 1\n",
    "        return different_count+similar_count == 0 or similar_count/(different_count+similar_count) > ratio\n",
    "    \n",
    "    # set the happiness colors for all shapes\n",
    "    if time ==0:\n",
    "        for i in range(size):\n",
    "            for j in range(size):\n",
    "                options = attribute_grid[i][j]\n",
    "                if options != 0:\n",
    "                    if not neighbors_are_similar(i, j):\n",
    "                        attribute_grid[i][j]['color'] = BRICK_RED\n",
    "                    else:\n",
    "                        attribute_grid[i][j]['color'] = shape_color_mapping[attribute_grid[i][j]['marker']]\n",
    "                \n",
    "    # for visualizing the board changing\n",
    "    \n",
    "    if time !=0 and time < 1000:\n",
    "        #find the unhappy shape\n",
    "        unhappy_shape_coord = None\n",
    "        unhappy_shape = None\n",
    "        for i in range(size):\n",
    "            if unhappy_shape:\n",
    "                break\n",
    "            for j in range(size):\n",
    "                if attribute_grid[i][j] != 0 and attribute_grid[i][j]['color'] == BRICK_RED:\n",
    "                    unhappy_shape = attribute_grid[i][j]\n",
    "                    unhappy_shape_coord = [i,j]\n",
    "        displaced = True\n",
    "        if unhappy_shape:\n",
    "            while displaced:\n",
    "                new_coord = [np.random.randint(0, size), np.random.randint(0, size)]\n",
    "                if attribute_grid[new_coord[0]][new_coord[1]] == 0:\n",
    "                    attribute_grid[unhappy_shape_coord[0]][unhappy_shape_coord[1]] = 0\n",
    "                    attribute_grid[new_coord[0]][new_coord[1]] = unhappy_shape\n",
    "                    displaced = False\n",
    "            for i in range(size):\n",
    "                for j in range(size):\n",
    "                    options = attribute_grid[i][j]\n",
    "                    if options != 0:\n",
    "                        if not neighbors_are_similar(i, j):\n",
    "                            attribute_grid[i][j]['color'] = BRICK_RED\n",
    "                        else:\n",
    "                            attribute_grid[i][j]['color'] = shape_color_mapping[attribute_grid[i][j]['marker']]\n",
    "#         else:\n",
    "#             for i in range(size):\n",
    "#                 for j in range(size):\n",
    "#                     options = attribute_grid[i][j]\n",
    "#                     if options != 0:\n",
    "#                         attribute_grid[i][j]['color'] = shape_color_mapping[attribute_grid[i][j]['marker']]\n",
    "\n",
    "    # change grid to output format\n",
    "    merged_options_coordinates = []\n",
    "    for i in range(size):\n",
    "        for j in range(size):\n",
    "            options = attribute_grid[i][j]\n",
    "            if options != 0:\n",
    "                added = False\n",
    "                for dictionary in merged_options_coordinates:\n",
    "                    if dictionary['options'] == options:\n",
    "                        dictionary['coords'].append([j, size-i-1])\n",
    "                        added = True\n",
    "                        break\n",
    "                if not added:\n",
    "                    merged_options_coordinates.append({'options':options, 'coords':[[j, size-i-1]]})\n",
    "    return merged_options_coordinates"
   ]
  },
  {
   "cell_type": "code",
   "execution_count": 6,
   "metadata": {},
   "outputs": [],
   "source": [
    "import itertools"
   ]
  },
  {
   "cell_type": "code",
   "execution_count": 7,
   "metadata": {},
   "outputs": [],
   "source": [
    "np.random.seed(43)\n",
    "coordinates = list(set(itertools.combinations(np.append(np.arange(15),np.arange(15)), 2)))\n",
    "np.random.shuffle(coordinates)\n",
    "inp= [{'options': {'color':'blue', 'marker':'triangle-up'}, 'coords':coordinates[0:40]},\n",
    "      {'options': {'color':'blue', 'marker':'circle'}, 'coords':coordinates[40:80]}]"
   ]
  },
  {
   "cell_type": "code",
   "execution_count": 8,
   "metadata": {},
   "outputs": [],
   "source": [
    "#widgets.Play(value=0, max=100)"
   ]
  },
  {
   "cell_type": "code",
   "execution_count": 9,
   "metadata": {
    "scrolled": false
   },
   "outputs": [
    {
     "data": {
      "application/vnd.jupyter.widget-view+json": {
       "model_id": "0ef5ef24d504489e87f9db67cfbb1a7a",
       "version_major": 2,
       "version_minor": 0
      },
      "text/plain": [
       "A Jupyter Widget"
      ]
     },
     "metadata": {},
     "output_type": "display_data"
    },
    {
     "data": {
      "application/vnd.jupyter.widget-view+json": {
       "model_id": "095a5ae36cd744b0812e15c1a7c93cc4",
       "version_major": 2,
       "version_minor": 0
      },
      "text/plain": [
       "A Jupyter Widget"
      ]
     },
     "metadata": {},
     "output_type": "display_data"
    }
   ],
   "source": [
    "shape_grid(4, cute_shape, 15, inp, time=widgets.Play(value=0, max=100), ratio=widgets.FloatSlider(value=0.3, min=0, max=1))"
   ]
  },
  {
   "cell_type": "code",
   "execution_count": null,
   "metadata": {},
   "outputs": [],
   "source": []
  }
 ],
 "metadata": {
  "kernelspec": {
   "display_name": "Python 3",
   "language": "python",
   "name": "python3"
  },
  "language_info": {
   "codemirror_mode": {
    "name": "ipython",
    "version": 3
   },
   "file_extension": ".py",
   "mimetype": "text/x-python",
   "name": "python",
   "nbconvert_exporter": "python",
   "pygments_lexer": "ipython3",
   "version": "3.6.2"
  }
 },
 "nbformat": 4,
 "nbformat_minor": 2
}
