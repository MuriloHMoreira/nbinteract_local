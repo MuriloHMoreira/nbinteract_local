{
 "cells": [
  {
   "cell_type": "code",
   "execution_count": 1,
   "metadata": {
    "collapsed": true
   },
   "outputs": [],
   "source": [
    "#basic data science modules\n",
    "import numpy as np\n",
    "import pandas as pd\n",
    "import seaborn as sns\n",
    "from scipy.optimize import minimize \n",
    "import matplotlib.pyplot as plt\n",
    "from scipy import stats\n",
    "#ipywidget modules\n",
    "from IPython.display import display\n",
    "from functools import partial\n",
    "from ipywidgets import interact, interactive, fixed, interact_manual\n",
    "import ipywidgets as widgets"
   ]
  },
  {
   "cell_type": "code",
   "execution_count": 2,
   "metadata": {
    "collapsed": true
   },
   "outputs": [],
   "source": [
    "sns.set()"
   ]
  },
  {
   "cell_type": "code",
   "execution_count": 3,
   "metadata": {
    "collapsed": true
   },
   "outputs": [],
   "source": [
    "%matplotlib inline"
   ]
  },
  {
   "cell_type": "code",
   "execution_count": 4,
   "metadata": {
    "collapsed": true
   },
   "outputs": [],
   "source": [
    "x = np.array([0,1,2,3,4,5])\n",
    "y = np.array([0,1,2,3,4,5])"
   ]
  },
  {
   "cell_type": "code",
   "execution_count": 5,
   "metadata": {
    "collapsed": true
   },
   "outputs": [],
   "source": [
    "x = np.array([0,1,2,3,4,5])\n",
    "y = np.array([0,1,2,3,4,5])\n",
    "def lw_mse(input_values):\n",
    "    any_slope, any_intercept = input_values\n",
    "    global x\n",
    "    global y\n",
    "    fitted = any_slope*x + any_intercept\n",
    "    return np.mean((y - fitted) ** 2)"
   ]
  },
  {
   "cell_type": "code",
   "execution_count": 6,
   "metadata": {},
   "outputs": [
    {
     "name": "stdout",
     "output_type": "stream",
     "text": [
      "[ 1.  0.]\n"
     ]
    }
   ],
   "source": [
    "initial_guess = [0,0]\n",
    "result = minimize(lw_mse, initial_guess, method='Powell')\n",
    "print (result.x)"
   ]
  },
  {
   "cell_type": "code",
   "execution_count": 7,
   "metadata": {
    "collapsed": true
   },
   "outputs": [],
   "source": [
    "def plot_line(x, y, slope, intercept,):\n",
    "    plt.scatter(x, y)\n",
    "    xlims = np.array([0, 10])\n",
    "    ylims = np.array([0, 10])\n",
    "    plt.xlim(xlims)\n",
    "    plt.ylim(ylims)\n",
    "    plt.plot(xlims, slope * xlims + intercept, lw=2)"
   ]
  },
  {
   "cell_type": "code",
   "execution_count": 8,
   "metadata": {
    "collapsed": true
   },
   "outputs": [],
   "source": [
    "y1_slider = widgets.IntSlider(value=0, min=0, max=10, orientation='vertical')\n",
    "y2_slider = widgets.IntSlider(value=2, min=0, max=10, orientation='vertical')\n",
    "y3_slider = widgets.IntSlider(value=4, min=0, max=10, orientation='vertical')\n",
    "y4_slider = widgets.IntSlider(value=6, min=0, max=10, orientation='vertical')\n",
    "y5_slider = widgets.IntSlider(value=8, min=0, max=10, orientation='vertical')"
   ]
  },
  {
   "cell_type": "code",
   "execution_count": 9,
   "metadata": {
    "collapsed": true
   },
   "outputs": [],
   "source": [
    "def func(y1,y2,y3,y4,y5):\n",
    "    x = [0,2,4,6,8]\n",
    "    y = [y1,y2,y3,y4,y5]\n",
    "    slope, intercept, r_value, p_value, std_err = stats.linregress(x,y)\n",
    "    plot_line(x, y, slope, intercept)\n",
    "    "
   ]
  },
  {
   "cell_type": "code",
   "execution_count": 10,
   "metadata": {
    "collapsed": true
   },
   "outputs": [],
   "source": [
    "interactive_plot = interactive(func, y1=y1_slider, y2=y2_slider, y3=y3_slider, y4=y4_slider, y5=y5_slider)"
   ]
  },
  {
   "cell_type": "code",
   "execution_count": 11,
   "metadata": {
    "collapsed": true
   },
   "outputs": [],
   "source": [
    "from ipywidgets import HBox, Label"
   ]
  },
  {
   "cell_type": "code",
   "execution_count": 12,
   "metadata": {
    "scrolled": false
   },
   "outputs": [
    {
     "data": {
      "application/vnd.jupyter.widget-view+json": {
       "model_id": "ed8e39051ad34ff7b9c8107222430553",
       "version_major": 2,
       "version_minor": 0
      },
      "text/plain": [
       "A Jupyter Widget"
      ]
     },
     "metadata": {},
     "output_type": "display_data"
    },
    {
     "data": {
      "application/vnd.jupyter.widget-view+json": {
       "model_id": "321af045f0cd4752878ccb4b57066bae",
       "version_major": 2,
       "version_minor": 0
      },
      "text/plain": [
       "A Jupyter Widget"
      ]
     },
     "metadata": {},
     "output_type": "display_data"
    }
   ],
   "source": [
    "box = HBox(interactive_plot.children[0:5])\n",
    "display(box, interactive_plot.children[-1])"
   ]
  },
  {
   "cell_type": "code",
   "execution_count": 17,
   "metadata": {
    "collapsed": true
   },
   "outputs": [],
   "source": [
    "def lw_errors(x, y, slope, intercept):\n",
    "    plt.scatter(x,y)\n",
    "    xlims = np.array([0, 10])\n",
    "    plt.plot(xlims, slope * xlims + intercept, lw=2)\n",
    "    for x, y in zip(x,y):\n",
    "        plt.plot([x, x], [y, slope * x + intercept], color='r', lw=2)"
   ]
  },
  {
   "cell_type": "code",
   "execution_count": 27,
   "metadata": {
    "collapsed": true
   },
   "outputs": [],
   "source": [
    "def lr_error(slope,intercept):\n",
    "    x = [0,2,4,6,8]\n",
    "    y = [0,2,4,6,8]\n",
    "    xlims = np.array([0, 10])\n",
    "    ylims = np.array([-20, 20])\n",
    "    plt.xlim(xlims)\n",
    "    plt.ylim(ylims)\n",
    "    lw_errors(x, y, slope, intercept)\n",
    "    \n"
   ]
  },
  {
   "cell_type": "code",
   "execution_count": 28,
   "metadata": {},
   "outputs": [],
   "source": [
    "slope_slider = widgets.FloatSlider(value=0, min=-2, max=2, step=0.1)\n",
    "intercept_slider = widgets.IntSlider(value=2, min=0, max=10)"
   ]
  },
  {
   "cell_type": "code",
   "execution_count": 30,
   "metadata": {},
   "outputs": [
    {
     "data": {
      "application/vnd.jupyter.widget-view+json": {
       "model_id": "4d5af588e576463aac5847878e443e97",
       "version_major": 2,
       "version_minor": 0
      },
      "text/plain": [
       "A Jupyter Widget"
      ]
     },
     "metadata": {},
     "output_type": "display_data"
    },
    {
     "data": {
      "application/vnd.jupyter.widget-view+json": {
       "model_id": "a7ccf1552d7047e686154317791e5f36",
       "version_major": 2,
       "version_minor": 0
      },
      "text/plain": [
       "A Jupyter Widget"
      ]
     },
     "metadata": {},
     "output_type": "display_data"
    }
   ],
   "source": [
    "error_plot = interactive(lr_error, slope=slope_slider, intercept=intercept_slider)\n",
    "box = HBox(error_plot.children[0:2])\n",
    "display(box, error_plot.children[-1])"
   ]
  },
  {
   "cell_type": "code",
   "execution_count": null,
   "metadata": {
    "collapsed": true
   },
   "outputs": [],
   "source": []
  }
 ],
 "metadata": {
  "kernelspec": {
   "display_name": "Python 3",
   "language": "python",
   "name": "python3"
  },
  "language_info": {
   "codemirror_mode": {
    "name": "ipython",
    "version": 3
   },
   "file_extension": ".py",
   "mimetype": "text/x-python",
   "name": "python",
   "nbconvert_exporter": "python",
   "pygments_lexer": "ipython3",
   "version": "3.6.2"
  }
 },
 "nbformat": 4,
 "nbformat_minor": 2
}
