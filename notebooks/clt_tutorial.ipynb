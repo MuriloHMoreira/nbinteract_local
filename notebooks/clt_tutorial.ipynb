{
 "cells": [
  {
   "cell_type": "markdown",
   "metadata": {},
   "source": [
    "# Central Limit Theorem "
   ]
  },
  {
   "cell_type": "markdown",
   "metadata": {},
   "source": [
    "In this tutorial, we will be displaying benefits of using iPywidgets in a textbook setting. \n",
    "The current way of showing the Central Limit Theorem concept is by [overlaying histograms](https://www.inferentialthinking.com/chapters/12/4/central-limit-theorem.html) to show students that the distibution becomes skinnier as the number of samples increase. "
   ]
  },
  {
   "cell_type": "markdown",
   "metadata": {},
   "source": [
    "## Using Interact"
   ]
  },
  {
   "cell_type": "code",
   "execution_count": 22,
   "metadata": {
    "collapsed": true
   },
   "outputs": [],
   "source": [
    "#Data science modules\n",
    "from datascience import *\n",
    "import matplotlib\n",
    "matplotlib.use('Agg', warn=False)\n",
    "%matplotlib inline\n",
    "import matplotlib.pyplot as plots\n",
    "plots.style.use('fivethirtyeight')\n",
    "import numpy as np\n",
    "\n",
    "# Interaction\n",
    "from IPython.display import display\n",
    "from functools import partial\n",
    "from ipywidgets import interact, interactive, fixed, interact_manual\n",
    "import ipywidgets as widgets"
   ]
  },
  {
   "cell_type": "markdown",
   "metadata": {},
   "source": [
    "Here's a simple example using coin flips"
   ]
  },
  {
   "cell_type": "code",
   "execution_count": 23,
   "metadata": {},
   "outputs": [
    {
     "data": {
      "text/html": [
       "<table border=\"1\" class=\"dataframe\">\n",
       "    <thead>\n",
       "        <tr>\n",
       "            <th>Coin</th>\n",
       "        </tr>\n",
       "    </thead>\n",
       "    <tbody>\n",
       "        <tr>\n",
       "            <td>0   </td>\n",
       "        </tr>\n",
       "    </tbody>\n",
       "        <tr>\n",
       "            <td>1   </td>\n",
       "        </tr>\n",
       "    </tbody>\n",
       "</table>"
      ],
      "text/plain": [
       "Coin\n",
       "0\n",
       "1"
      ]
     },
     "execution_count": 23,
     "metadata": {},
     "output_type": "execute_result"
    }
   ],
   "source": [
    "coin = Table().with_column('Coin', np.arange(0,2))\n",
    "coin"
   ]
  },
  {
   "cell_type": "markdown",
   "metadata": {},
   "source": [
    "Using interact, we create a visualization of the sample growing as the sample size increases. The (0,20) value for sample_num creates a slider ranging from 0 to 20."
   ]
  },
  {
   "cell_type": "code",
   "execution_count": 24,
   "metadata": {},
   "outputs": [
    {
     "data": {
      "application/vnd.jupyter.widget-view+json": {
       "model_id": "0dad4fbbd3dc4ca78dc689c8b84645df",
       "version_major": 2,
       "version_minor": 0
      },
      "text/plain": [
       "A Jupyter Widget"
      ]
     },
     "metadata": {},
     "output_type": "display_data"
    }
   ],
   "source": [
    "def coin_sample_10(sample_num=0):\n",
    "    return coin.sample(sample_num)\n",
    "\n",
    "_ = interact(coin_sample_10, sample_num=(0, 20))"
   ]
  },
  {
   "cell_type": "markdown",
   "metadata": {},
   "source": [
    "This is a function that plots the means of multiple resample from the coin flip distibution. This example can be found in the textbook for a roulette wheel. "
   ]
  },
  {
   "cell_type": "code",
   "execution_count": 25,
   "metadata": {
    "collapsed": true
   },
   "outputs": [],
   "source": [
    "def coin_clt_hist(repetitions, num_flips):\n",
    "    net_gain_coin_flips = make_array()\n",
    "    for i in np.arange(repetitions):\n",
    "        new_coin= coin.sample(num_flips)\n",
    "        new_net_gain_coin_flip = new_coin.column('Coin').mean()\n",
    "        net_gain_coin_flips = np.append(net_gain_coin_flips, new_net_gain_coin_flip)\n",
    "    results = Table().with_column(\n",
    "    'Net Gain Coin', net_gain_coin_flips\n",
    "    )\n",
    "    results.hist()"
   ]
  },
  {
   "cell_type": "markdown",
   "metadata": {},
   "source": [
    "By simply writing interact, we can create an interactive output that allows students to visualize the histogram for different number of coin flips per resample and how that affects the distribution. All you need to pass in is the starting value of the slider and the max/min for the range. "
   ]
  },
  {
   "cell_type": "code",
   "execution_count": 26,
   "metadata": {},
   "outputs": [
    {
     "data": {
      "application/vnd.jupyter.widget-view+json": {
       "model_id": "e2b884a8692340739b8d17bbe2b5e6a5",
       "version_major": 2,
       "version_minor": 0
      },
      "text/plain": [
       "A Jupyter Widget"
      ]
     },
     "metadata": {},
     "output_type": "display_data"
    }
   ],
   "source": [
    "_ = interact(coin_clt_hist, repetitions=fixed(100),\n",
    "             num_flips=widgets.IntSlider(value=50, max=500))"
   ]
  },
  {
   "cell_type": "markdown",
   "metadata": {},
   "source": [
    "## Breaking down interact"
   ]
  },
  {
   "cell_type": "markdown",
   "metadata": {},
   "source": [
    "Here we will break down interact into individual widgets to show how interact is built. "
   ]
  },
  {
   "cell_type": "markdown",
   "metadata": {},
   "source": [
    "First we create the button seen above. This can be done using the widgets library and calling a button called the IntSlider and passing in the initial value of the slider as well as the max. "
   ]
  },
  {
   "cell_type": "code",
   "execution_count": 27,
   "metadata": {
    "collapsed": true
   },
   "outputs": [],
   "source": [
    "int_slider = widgets.IntSlider(value=50, max=500)"
   ]
  },
  {
   "cell_type": "markdown",
   "metadata": {},
   "source": [
    "We can display this button by passing in the button into the display function. "
   ]
  },
  {
   "cell_type": "code",
   "execution_count": 28,
   "metadata": {},
   "outputs": [
    {
     "data": {
      "application/vnd.jupyter.widget-view+json": {
       "model_id": "53b8f29335d446729c5a365b898c1a58",
       "version_major": 2,
       "version_minor": 0
      },
      "text/plain": [
       "A Jupyter Widget"
      ]
     },
     "metadata": {},
     "output_type": "display_data"
    }
   ],
   "source": [
    "display(int_slider)"
   ]
  },
  {
   "cell_type": "markdown",
   "metadata": {},
   "source": [
    "We want to design a function that runs every time a widget is moved. This function uses a parameter labeled \"change\". Change is a dictionary consisting of the old and new value. For example, if initizlly the slider is at 10, by sliding it to 100, change['new'] would return 100. Change['old'] would return 10, the old value. "
   ]
  },
  {
   "cell_type": "code",
   "execution_count": 29,
   "metadata": {
    "collapsed": true
   },
   "outputs": [],
   "source": [
    "def new_coin_clt_hist(change, repetitions=100 ):\n",
    "    num_flips = change['new']\n",
    "    net_gain_coin_flips = make_array()\n",
    "    for i in np.arange(repetitions):\n",
    "        new_coin= coin.sample(num_flips)\n",
    "        new_net_gain_coin_flip = new_coin.column('Coin').mean()\n",
    "        net_gain_coin_flips = np.append(net_gain_coin_flips, new_net_gain_coin_flip)\n",
    "    results = Table().with_column(\n",
    "    'Net Gain Coin', net_gain_coin_flips\n",
    "    )\n",
    "    results.hist()\n"
   ]
  },
  {
   "cell_type": "markdown",
   "metadata": {},
   "source": [
    "Here we link the button to the coin_clt_hist function by using the function observe and we pass in the name of whatever we want to send to the function, which would be the 'value' of the button in this case.  "
   ]
  },
  {
   "cell_type": "code",
   "execution_count": 30,
   "metadata": {
    "scrolled": true
   },
   "outputs": [
    {
     "data": {
      "application/vnd.jupyter.widget-view+json": {
       "model_id": "53b8f29335d446729c5a365b898c1a58",
       "version_major": 2,
       "version_minor": 0
      },
      "text/plain": [
       "A Jupyter Widget"
      ]
     },
     "metadata": {},
     "output_type": "display_data"
    }
   ],
   "source": [
    "int_slider.observe(new_coin_clt_hist, names='value')\n",
    "display(int_slider)\n"
   ]
  },
  {
   "cell_type": "markdown",
   "metadata": {},
   "source": [
    "## Adding Plotly"
   ]
  },
  {
   "cell_type": "markdown",
   "metadata": {},
   "source": [
    "Now, adding plotly into the equation is not a simple step. However it can generate graphs that update smoothly and can be helpful when creating more complicated graphs. "
   ]
  },
  {
   "cell_type": "code",
   "execution_count": 31,
   "metadata": {
    "collapsed": true
   },
   "outputs": [],
   "source": [
    "#plotly packages\n",
    "import plotly\n",
    "import plotly.graph_objs as go\n",
    "import plotly.plotly as py\n",
    "from plotly.graph_objs import *\n",
    "from plotly.widgets import GraphWidget"
   ]
  },
  {
   "cell_type": "markdown",
   "metadata": {},
   "source": [
    "This is also a similar function to before except this time the function returns the means rather than plotting them right away. "
   ]
  },
  {
   "cell_type": "code",
   "execution_count": 32,
   "metadata": {
    "collapsed": true
   },
   "outputs": [],
   "source": [
    "def plotly_coin_clt_hist(change, repetitions=100 ):\n",
    "    num_flips = change['new']\n",
    "    net_gain_coin_flips = make_array()\n",
    "    for i in np.arange(repetitions):\n",
    "        new_coin= coin.sample(num_flips)\n",
    "        new_net_gain_coin_flip = new_coin.column('Coin').mean()\n",
    "        net_gain_coin_flips = np.append(net_gain_coin_flips, new_net_gain_coin_flip)\n",
    "    return net_gain_coin_flips"
   ]
  },
  {
   "cell_type": "markdown",
   "metadata": {},
   "source": [
    "Here we initialize a GraphWidget which is a Plotly wrapper around iPython widgets. Here the url links to a blank graph that we will update on. We can treat it as a template to build our new graph on top of. "
   ]
  },
  {
   "cell_type": "code",
   "execution_count": 33,
   "metadata": {
    "collapsed": true
   },
   "outputs": [],
   "source": [
    "g = GraphWidget('https://plot.ly/~calebs11/86')"
   ]
  },
  {
   "cell_type": "markdown",
   "metadata": {},
   "source": [
    "This is just an IntWidget identical to the one we created earlier. "
   ]
  },
  {
   "cell_type": "code",
   "execution_count": 34,
   "metadata": {
    "collapsed": true
   },
   "outputs": [],
   "source": [
    "style = {'description_width': 'initial'}\n",
    "num_flips_slider = widgets.IntSlider(\n",
    "    description='Num Coin Flps',\n",
    "    value=500, \n",
    "    max=1000, \n",
    "    min=1, \n",
    "    style=style, )"
   ]
  },
  {
   "cell_type": "markdown",
   "metadata": {},
   "source": [
    "This is the trickiest part about using plotly. Rather than simply writing an update function that replots the graph each time the slider is moved, we are updating the input to our graph based on the value of the slider. The function restyle passes in the new input based on the new value of the slider. "
   ]
  },
  {
   "cell_type": "code",
   "execution_count": 38,
   "metadata": {
    "collapsed": true
   },
   "outputs": [],
   "source": [
    "def update(change):\n",
    "    new_sample = plotly_coin_clt_hist(change)\n",
    "    g.restyle({'x': [new_sample], 'name': 'Coin Flip Average', 'type': 'histogram'})\n",
    "    g.relayout({'xaxis.range': [0, 1], 'xaxis.fixedrange': True, 'yaxis.fixedrange': True})\n"
   ]
  },
  {
   "cell_type": "markdown",
   "metadata": {},
   "source": [
    "We have to link our slider to the function, similar to before. "
   ]
  },
  {
   "cell_type": "code",
   "execution_count": 39,
   "metadata": {
    "collapsed": true
   },
   "outputs": [],
   "source": [
    "num_flips_slider.unobserve_all()\n",
    "num_flips_slider.observe(update, names='value')"
   ]
  },
  {
   "cell_type": "markdown",
   "metadata": {},
   "source": [
    "Now just call display!"
   ]
  },
  {
   "cell_type": "code",
   "execution_count": 40,
   "metadata": {
    "scrolled": false
   },
   "outputs": [
    {
     "data": {
      "application/vnd.jupyter.widget-view+json": {
       "model_id": "a7694eadd44e445ea5ee8d8476ba7a61",
       "version_major": 2,
       "version_minor": 0
      },
      "text/plain": [
       "A Jupyter Widget"
      ]
     },
     "metadata": {},
     "output_type": "display_data"
    },
    {
     "data": {
      "application/vnd.jupyter.widget-view+json": {
       "model_id": "c77567e301004cf6bfefefaedfbb1b05",
       "version_major": 2,
       "version_minor": 0
      },
      "text/plain": [
       "A Jupyter Widget"
      ]
     },
     "metadata": {},
     "output_type": "display_data"
    }
   ],
   "source": [
    "display(num_flips_slider)\n",
    "display(g)"
   ]
  },
  {
   "cell_type": "code",
   "execution_count": null,
   "metadata": {
    "collapsed": true
   },
   "outputs": [],
   "source": []
  }
 ],
 "metadata": {
  "kernelspec": {
   "display_name": "Python 3",
   "language": "python",
   "name": "python3"
  },
  "language_info": {
   "codemirror_mode": {
    "name": "ipython",
    "version": 3
   },
   "file_extension": ".py",
   "mimetype": "text/x-python",
   "name": "python",
   "nbconvert_exporter": "python",
   "pygments_lexer": "ipython3",
   "version": "3.6.2"
  }
 },
 "nbformat": 4,
 "nbformat_minor": 2
}
