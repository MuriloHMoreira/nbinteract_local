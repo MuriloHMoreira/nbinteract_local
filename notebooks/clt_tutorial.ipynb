{
 "cells": [
  {
   "cell_type": "markdown",
   "metadata": {},
   "source": [
    "# Central Limit Theorem "
   ]
  },
  {
   "cell_type": "code",
   "execution_count": 10,
   "metadata": {
    "collapsed": true
   },
   "outputs": [],
   "source": [
    "# HIDDEN\n",
    "import numpy as np\n",
    "import pandas as pd\n",
    "\n",
    "from datascience import *\n",
    "import matplotlib\n",
    "matplotlib.use('Agg', warn=False)\n",
    "%matplotlib inline\n",
    "import matplotlib.pyplot as plots\n",
    "plots.style.use('fivethirtyeight')\n",
    "import numpy as np\n",
    "\n",
    "# Interaction\n",
    "from IPython.display import display\n",
    "from functools import partial\n",
    "from ipywidgets import interact, interactive, fixed, interact_manual\n",
    "import ipywidgets as widgets"
   ]
  },
  {
   "cell_type": "code",
   "execution_count": 25,
   "metadata": {},
   "outputs": [
    {
     "data": {
      "text/html": [
       "<table border=\"1\" class=\"dataframe\">\n",
       "    <thead>\n",
       "        <tr>\n",
       "            <th>Coin</th>\n",
       "        </tr>\n",
       "    </thead>\n",
       "    <tbody>\n",
       "        <tr>\n",
       "            <td>0   </td>\n",
       "        </tr>\n",
       "    </tbody>\n",
       "        <tr>\n",
       "            <td>1   </td>\n",
       "        </tr>\n",
       "    </tbody>\n",
       "</table>"
      ],
      "text/plain": [
       "Coin\n",
       "0\n",
       "1"
      ]
     },
     "execution_count": 25,
     "metadata": {},
     "output_type": "execute_result"
    }
   ],
   "source": [
    "coin = Table().with_column('Coin', np.arange(0,2))\n",
    "coin"
   ]
  },
  {
   "cell_type": "code",
   "execution_count": 56,
   "metadata": {},
   "outputs": [
    {
     "data": {
      "application/vnd.jupyter.widget-view+json": {
       "model_id": "5feb5c441534426185e9131e68cf751e",
       "version_major": 2,
       "version_minor": 0
      },
      "text/plain": [
       "A Jupyter Widget"
      ]
     },
     "metadata": {},
     "output_type": "display_data"
    }
   ],
   "source": [
    "def coin_sample_10(sample_num=0):\n",
    "    return die.sample(sample_num)\n",
    "\n",
    "_ = interact(die_sample_10, sample_num=(0, 20))"
   ]
  },
  {
   "cell_type": "code",
   "execution_count": 69,
   "metadata": {},
   "outputs": [],
   "source": [
    "def coin_clt_hist(repetitions, num_flips):\n",
    "    net_gain_coin_flips = make_array()\n",
    "    for i in np.arange(repetitions):\n",
    "        new_coin= coin.sample(num_flips)\n",
    "        new_net_gain_coin_flip = new_coin.column('Coin').mean()\n",
    "        net_gain_coin_flips = np.append(net_gain_coin_flips, new_net_gain_coin_flip)\n",
    "    results = Table().with_column(\n",
    "    'Net Gain Coin', net_gain_coin_flips\n",
    "    )\n",
    "    results.hist()\n",
    "\n"
   ]
  },
  {
   "cell_type": "code",
   "execution_count": 70,
   "metadata": {},
   "outputs": [
    {
     "data": {
      "application/vnd.jupyter.widget-view+json": {
       "model_id": "708e9e229c204ecca21de40851135478",
       "version_major": 2,
       "version_minor": 0
      },
      "text/plain": [
       "A Jupyter Widget"
      ]
     },
     "metadata": {},
     "output_type": "display_data"
    }
   ],
   "source": [
    "_ = interact(coin_clt_hist, repetitions=fixed(100),\n",
    "             num_flips=widgets.ToggleButtons(options=[10, 100, 1000]))"
   ]
  },
  {
   "cell_type": "code",
   "execution_count": 71,
   "metadata": {
    "collapsed": true
   },
   "outputs": [],
   "source": [
    "def new_coin_clt_hist(change, repetitions=100 ):\n",
    "    num_flips = change['new']\n",
    "    net_gain_coin_flips = make_array()\n",
    "    for i in np.arange(repetitions):\n",
    "        new_coin= coin.sample(num_flips)\n",
    "        new_net_gain_coin_flip = new_coin.column('Coin').mean()\n",
    "        net_gain_coin_flips = np.append(net_gain_coin_flips, new_net_gain_coin_flip)\n",
    "    results = Table().with_column(\n",
    "    'Net Gain Coin', net_gain_coin_flips\n",
    "    )\n",
    "    results.hist()\n"
   ]
  },
  {
   "cell_type": "code",
   "execution_count": 72,
   "metadata": {},
   "outputs": [
    {
     "data": {
      "application/vnd.jupyter.widget-view+json": {
       "model_id": "e3f7494316ef4dc6b2dcb0b7d395dd5c",
       "version_major": 2,
       "version_minor": 0
      },
      "text/plain": [
       "A Jupyter Widget"
      ]
     },
     "metadata": {},
     "output_type": "display_data"
    }
   ],
   "source": [
    "buttons = widgets.ToggleButtons(options=[10, 100, 1000])\n",
    "buttons.observe(new_coin_clt_hist, names='value')\n",
    "display(buttons)\n"
   ]
  },
  {
   "cell_type": "code",
   "execution_count": 76,
   "metadata": {},
   "outputs": [],
   "source": [
    "#plotly modules\n",
    "import plotly\n",
    "import plotly.graph_objs as go\n",
    "import plotly.plotly as py\n",
    "from plotly.graph_objs import *\n",
    "from plotly.widgets import GraphWidget"
   ]
  },
  {
   "cell_type": "code",
   "execution_count": 77,
   "metadata": {
    "collapsed": true
   },
   "outputs": [],
   "source": [
    "def plotly_coin_clt_hist(change, repetitions=100 ):\n",
    "    num_flips = change['new']\n",
    "    net_gain_coin_flips = make_array()\n",
    "    for i in np.arange(repetitions):\n",
    "        new_coin= coin.sample(num_flips)\n",
    "        new_net_gain_coin_flip = new_coin.column('Coin').mean()\n",
    "        net_gain_coin_flips = np.append(net_gain_coin_flips, new_net_gain_coin_flip)\n",
    "    return net_gain_coin_flips"
   ]
  },
  {
   "cell_type": "code",
   "execution_count": 78,
   "metadata": {},
   "outputs": [],
   "source": [
    "g = GraphWidget('https://plot.ly/~calebs11/86')"
   ]
  },
  {
   "cell_type": "code",
   "execution_count": 79,
   "metadata": {
    "collapsed": true
   },
   "outputs": [],
   "source": [
    "style = {'description_width': 'initial'}\n",
    "num_flips_slider = widgets.IntSlider(\n",
    "    description='Num Coin Flps',\n",
    "    value=500, \n",
    "    max=1000, \n",
    "    min=1, \n",
    "    style=style, )"
   ]
  },
  {
   "cell_type": "code",
   "execution_count": 88,
   "metadata": {},
   "outputs": [],
   "source": [
    "def update(change):\n",
    "    global current_sample\n",
    "    new_sample = plotly_coin_clt_hist(change)\n",
    "    g.restyle({'x': [new_sample], 'name': 'Coin Flip Average', 'type': 'histogram', \n",
    "                   'opacity': 0.75, \"autobinx\":False, \"autobiny\":False, \"xbins\":dict(\n",
    "        start=0,\n",
    "        end=1,\n",
    "        size=0.01\n",
    "    )})\n",
    "#     g.relayout({'xaxis.range': [0, 1], 'xaxis.fixedrange': True, 'yaxis.fixedrange': True})\n"
   ]
  },
  {
   "cell_type": "code",
   "execution_count": 89,
   "metadata": {
    "collapsed": true
   },
   "outputs": [],
   "source": [
    "num_flips_slider.unobserve_all()\n",
    "num_flips_slider.observe(update, names='value')"
   ]
  },
  {
   "cell_type": "code",
   "execution_count": 90,
   "metadata": {
    "scrolled": false
   },
   "outputs": [
    {
     "data": {
      "application/vnd.jupyter.widget-view+json": {
       "model_id": "1c2f115d0ee445a0a6aa4ac22f218494",
       "version_major": 2,
       "version_minor": 0
      },
      "text/plain": [
       "A Jupyter Widget"
      ]
     },
     "metadata": {},
     "output_type": "display_data"
    },
    {
     "data": {
      "application/vnd.jupyter.widget-view+json": {
       "model_id": "ca8fc6af94f548038c25377ff046e97e",
       "version_major": 2,
       "version_minor": 0
      },
      "text/plain": [
       "A Jupyter Widget"
      ]
     },
     "metadata": {},
     "output_type": "display_data"
    }
   ],
   "source": [
    "display(num_flips_slider)\n",
    "display(g)"
   ]
  }
 ],
 "metadata": {
  "kernelspec": {
   "display_name": "Python 3",
   "language": "python",
   "name": "python3"
  },
  "language_info": {
   "codemirror_mode": {
    "name": "ipython",
    "version": 3
   },
   "file_extension": ".py",
   "mimetype": "text/x-python",
   "name": "python",
   "nbconvert_exporter": "python",
   "pygments_lexer": "ipython3",
   "version": "3.6.2"
  }
 },
 "nbformat": 4,
 "nbformat_minor": 2
}
