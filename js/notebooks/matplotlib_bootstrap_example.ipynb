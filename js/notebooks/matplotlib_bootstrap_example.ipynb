{
 "cells": [
  {
   "cell_type": "markdown",
   "metadata": {},
   "source": [
    "# Visualizing Bootstrap Demo"
   ]
  },
  {
   "cell_type": "code",
   "execution_count": 2,
   "metadata": {
    "collapsed": true
   },
   "outputs": [],
   "source": [
    "from __future__ import print_function\n",
    "from ipywidgets import interact, interactive, fixed, interact_manual\n",
    "from datascience import *\n",
    "import numpy as np\n",
    "import ipywidgets as widgets\n",
    "import traitlets\n",
    "import matplotlib.pyplot as plt\n",
    "from matplotlib import gridspec\n",
    "import plotly.plotly as py\n",
    "import plotly \n",
    "import plotly.graph_objs as go\n",
    "%matplotlib inline"
   ]
  },
  {
   "cell_type": "markdown",
   "metadata": {},
   "source": [
    "## Fetch Data"
   ]
  },
  {
   "cell_type": "code",
   "execution_count": 4,
   "metadata": {},
   "outputs": [
    {
     "data": {
      "text/plain": [
       "array([ 116217.43,   89260.93,   45070.72, ...,  184402.93,  151518.  ,\n",
       "        105951.81])"
      ]
     },
     "execution_count": 4,
     "metadata": {},
     "output_type": "execute_result"
    },
    {
     "data": {
      "image/png": "[encoded data removed]",
      "text/plain": [
       "<matplotlib.figure.Figure at 0x11112c198>"
      ]
     },
     "metadata": {},
     "output_type": "display_data"
    }
   ],
   "source": [
    "sf2017 = Table.read_table('data/sf2017.csv')\n",
    "sf2017 = sf2017.where('Salaries', are.above(10000))\n",
    "\n",
    "sf_bins = np.arange(0, 700000, 25000)\n",
    "sf2017.select('Total Compensation').hist(bins=sf_bins)\n",
    "sf2017.column('Total Compensation')"
   ]
  },
  {
   "cell_type": "code",
   "execution_count": 6,
   "metadata": {},
   "outputs": [
    {
     "data": {
      "text/plain": [
       "322966"
      ]
     },
     "execution_count": 6,
     "metadata": {},
     "output_type": "execute_result"
    }
   ],
   "source": [
    "len(sf2017.column('Total Compensation'))"
   ]
  },
  {
   "cell_type": "markdown",
   "metadata": {},
   "source": [
    "## Sampling/Bootstrapping"
   ]
  },
  {
   "cell_type": "markdown",
   "metadata": {},
   "source": [
    "#### Sample Size: 500"
   ]
  },
  {
   "cell_type": "code",
   "execution_count": 7,
   "metadata": {},
   "outputs": [
    {
     "data": {
      "image/png": "[encoded data removed]",
      "text/plain": [
       "<matplotlib.figure.Figure at 0x11031a390>"
      ]
     },
     "metadata": {},
     "output_type": "display_data"
    }
   ],
   "source": [
    "our_sample = sf2017.sample(500, with_replacement=False)\n",
    "our_sample.select('Total Compensation').hist(bins=sf_bins)"
   ]
  },
  {
   "cell_type": "code",
   "execution_count": 8,
   "metadata": {
    "collapsed": true
   },
   "outputs": [],
   "source": [
    "def bootstrap_median(original_sample, label, replications):\n",
    "    \"\"\"Returns an array of bootstrapped sample medians:\n",
    "    original_sample: table containing the original sample\n",
    "    label: label of column containing the variable\n",
    "    replications: number of bootstrap samples\n",
    "    \"\"\"\n",
    "    just_one_column = original_sample.select(label)\n",
    "    medians = make_array()\n",
    "    for i in np.arange(replications):\n",
    "        bootstrap_sample = just_one_column.sample()\n",
    "        resampled_median = percentile(50, bootstrap_sample.column(0))\n",
    "        medians = np.append(medians, resampled_median)\n",
    "\n",
    "    return medians"
   ]
  },
  {
   "cell_type": "code",
   "execution_count": 9,
   "metadata": {
    "collapsed": true
   },
   "outputs": [],
   "source": [
    "bstrap_medians = bootstrap_median(our_sample, 'Total Compensation', 5000)"
   ]
  },
  {
   "cell_type": "markdown",
   "metadata": {},
   "source": [
    "## Bootstrap Demo"
   ]
  },
  {
   "cell_type": "code",
   "execution_count": 10,
   "metadata": {},
   "outputs": [
    {
     "data": {
      "application/vnd.jupyter.widget-view+json": {
       "model_id": "c712117e4e2740b985ae9ed42bb70bdd",
       "version_major": 2,
       "version_minor": 0
      },
      "text/plain": [
       "A Jupyter Widget"
      ]
     },
     "metadata": {},
     "output_type": "display_data"
    }
   ],
   "source": [
    "style = {'description_width': 'initial'}\n",
    "\n",
    "def generate_samples(sample_size, resample_size):\n",
    "    \n",
    "    \n",
    "    sample = sf2017.sample(sample_size, with_replacement=False)\n",
    "    bstrap_medians = bootstrap_median(sample, 'Total Compensation', resample_size)\n",
    "    resampled_medians = Table().with_column('Bootstrap Sample Median', bstrap_medians)\n",
    "    \n",
    "    play = widgets.Play(\n",
    "    interval=1000,\n",
    "    value=1,\n",
    "    min=50,\n",
    "    max=1000,\n",
    "    step=50,\n",
    "    description=\"Press play\",\n",
    "    disabled=False\n",
    "    )\n",
    "    \n",
    "    def plot_histo(n, resampled_medians, sample_size):\n",
    "        fig = plt.figure(figsize=(14, 6)) \n",
    "        gs = gridspec.GridSpec(1, 3, width_ratios=[1, 1, 1]) \n",
    "        ax0 = plt.subplot(gs[0])\n",
    "        ax1 = plt.subplot(gs[1])\n",
    "        ax2 = plt.subplot(gs[2])\n",
    "        print('Number of resamples: %s' %n)\n",
    "        histo_values = resampled_medians.take(np.arange(n)).column('Bootstrap Sample Median')\n",
    "        ax0.hist(sf2017.column('Total Compensation'))\n",
    "        ax0.set_title('Original Distribution')\n",
    "        ax1.hist(np.random.choice(sample.column('Total Compensation'), sample_size))\n",
    "        ax1.set_title('Resample Distribution')\n",
    "        ax2.hist(histo_values)\n",
    "        ax2.set_title('Bootstrap Distribution')\n",
    "        \n",
    "\n",
    "    play_button = interactive(plot_histo, n=play, resampled_medians=fixed(resampled_medians), sample_size=fixed(sample_size))\n",
    "    display(play_button)\n",
    "    \n",
    "sample_size_slider = widgets.IntSlider(description='Sample Size',value=1, max=1000, min=1, style=style, continuous_update=False) \n",
    "# resample_size_slider = widgets.IntSlider(description='Resample Size',value=1, max=1000, min=1, style=style) \n",
    "final_widget = interactive(generate_samples, sample_size=sample_size_slider, resample_size=fixed(1000))\n",
    "\n",
    "display(final_widget)"
   ]
  }
 ],
 "metadata": {
  "kernelspec": {
   "display_name": "Python 3",
   "language": "python",
   "name": "python3"
  },
  "language_info": {
   "codemirror_mode": {
    "name": "ipython",
    "version": 3
   },
   "file_extension": ".py",
   "mimetype": "text/x-python",
   "name": "python",
   "nbconvert_exporter": "python",
   "pygments_lexer": "ipython3",
   "version": "3.6.2"
  }
 },
 "nbformat": 4,
 "nbformat_minor": 2
}
